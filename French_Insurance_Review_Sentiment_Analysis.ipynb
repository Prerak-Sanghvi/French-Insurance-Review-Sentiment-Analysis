{
  "cells": [
    {
      "cell_type": "code",
      "execution_count": null,
      "metadata": {},
      "outputs": [],
      "source": [
        "import numpy as np"
      ]
    },
    {
      "cell_type": "code",
      "execution_count": null,
      "metadata": {
        "colab": {
          "base_uri": "https://localhost:8080/"
        },
        "id": "h4ZCRslKB8aq",
        "outputId": "d6e7f2df-a8f7-499b-dbf4-30ebc371a922"
      },
      "outputs": [],
      "source": [
        "import os\n",
        "from google.colab import drive\n",
        "drive.mount('/content/drive', force_remount=True)\n",
        "\n",
        "path = \"/content/drive/My Drive/\"\n",
        "\n",
        "os.chdir(path)\n",
        "os.listdir(path)"
      ]
    },
    {
      "cell_type": "code",
      "execution_count": null,
      "metadata": {
        "id": "PuSBSDkIDljg"
      },
      "outputs": [],
      "source": [
        "import pandas as pd\n",
        "train=pd.read_csv(\"avisassurance_train.csv\",sep=';')\n",
        "test=pd.read_csv(\"avisassurance_test.csv\",sep=';')"
      ]
    },
    {
      "cell_type": "code",
      "execution_count": null,
      "metadata": {
        "colab": {
          "base_uri": "https://localhost:8080/",
          "height": 938
        },
        "id": "HKktJSQ3GMva",
        "outputId": "f8765375-cdf5-4c46-8be1-7de42ddbe1c6"
      },
      "outputs": [],
      "source": [
        "train.head(10)"
      ]
    },
    {
      "cell_type": "code",
      "execution_count": null,
      "metadata": {
        "colab": {
          "base_uri": "https://localhost:8080/",
          "height": 1000
        },
        "id": "mt5WCpGzF48n",
        "outputId": "aea56cea-1e31-4d37-92ed-0c2cf59b2437"
      },
      "outputs": [],
      "source": [
        "test.head(10)"
      ]
    },
    {
      "cell_type": "markdown",
      "metadata": {
        "id": "ppSCi_RfGZTZ"
      },
      "source": [
        "## Data exploration"
      ]
    },
    {
      "cell_type": "markdown",
      "metadata": {
        "id": "Aw_fyPnAGnF0"
      },
      "source": [
        "Deal with the null data."
      ]
    },
    {
      "cell_type": "code",
      "execution_count": null,
      "metadata": {
        "colab": {
          "base_uri": "https://localhost:8080/"
        },
        "id": "wiuEi0xKGWsH",
        "outputId": "49ea4d0e-a195-4362-ae67-9ee8860c2964"
      },
      "outputs": [],
      "source": [
        "train.isnull().sum().sort_values()"
      ]
    },
    {
      "cell_type": "code",
      "execution_count": null,
      "metadata": {
        "colab": {
          "base_uri": "https://localhost:8080/"
        },
        "id": "dF6EoFzfGmBn",
        "outputId": "49492eec-56cb-40bb-b9e7-5a49ccd35dd0"
      },
      "outputs": [],
      "source": [
        "test.isnull().sum().sort_values()"
      ]
    },
    {
      "cell_type": "markdown",
      "metadata": {
        "id": "jprKT6R1GuY4"
      },
      "source": [
        "So we decided to remove all the null data."
      ]
    },
    {
      "cell_type": "code",
      "execution_count": null,
      "metadata": {
        "id": "WMv0ehmXG3us"
      },
      "outputs": [],
      "source": [
        "train=train.dropna()"
      ]
    },
    {
      "cell_type": "code",
      "execution_count": null,
      "metadata": {
        "id": "gUmmCqtgG_xw"
      },
      "outputs": [],
      "source": [
        "test=test.dropna()"
      ]
    },
    {
      "cell_type": "markdown",
      "metadata": {
        "id": "_FHLNeb9HCU1"
      },
      "source": [
        "Check if there is the duplicated data"
      ]
    },
    {
      "cell_type": "code",
      "execution_count": null,
      "metadata": {
        "colab": {
          "base_uri": "https://localhost:8080/"
        },
        "id": "39PLfUfYG310",
        "outputId": "dadbb8cd-d7ef-46b4-c73e-2962f810680f"
      },
      "outputs": [],
      "source": [
        "train.duplicated().sum()"
      ]
    },
    {
      "cell_type": "code",
      "execution_count": null,
      "metadata": {
        "colab": {
          "base_uri": "https://localhost:8080/"
        },
        "id": "kyKS6zt-G5tH",
        "outputId": "74886644-8bee-485c-e0e5-08e3b00bfd03"
      },
      "outputs": [],
      "source": [
        "test.duplicated().sum()"
      ]
    },
    {
      "cell_type": "code",
      "execution_count": null,
      "metadata": {
        "colab": {
          "base_uri": "https://localhost:8080/"
        },
        "id": "kbz2gcNJHMsW",
        "outputId": "83b8a7ca-f457-4e2f-b4ab-81365de1dc92"
      },
      "outputs": [],
      "source": [
        "# We drop all duplicates from our data\n",
        "train.drop_duplicates(inplace=True)\n",
        "test.drop_duplicates(inplace=True)"
      ]
    },
    {
      "cell_type": "markdown",
      "metadata": {
        "id": "arPZXEFlHcbi"
      },
      "source": [
        "Deal with the Date"
      ]
    },
    {
      "cell_type": "code",
      "execution_count": null,
      "metadata": {
        "colab": {
          "base_uri": "https://localhost:8080/",
          "height": 1000
        },
        "id": "Q6C3NCG3HbS7",
        "outputId": "058d6bca-30a8-4d28-c607-c3f3c6d1c1b4"
      },
      "outputs": [],
      "source": [
        "train.date[0]"
      ]
    },
    {
      "cell_type": "code",
      "execution_count": null,
      "metadata": {
        "id": "E7NWX-EgJajD"
      },
      "outputs": [],
      "source": [
        "import datetime"
      ]
    },
    {
      "cell_type": "code",
      "execution_count": null,
      "metadata": {
        "id": "NS5NZPgiJtid"
      },
      "outputs": [],
      "source": [
        "def return_date(a):\n",
        "  dicts={'janvier':1,'février':2,'mars':3,'avril':4,'mai':5,'juin':6,\n",
        "'juillet':7,'août':8,'septembre':9,\n",
        "'octobre':10,'novembre':11,'décembre':12}\n",
        "  d_dropna = list(filter(None,a.split(\" \"))) \n",
        "  return datetime.date(int(d_dropna[2]), int(dicts[d_dropna[1]]), int(d_dropna[0]))\n",
        "\n",
        "train['Date']=train.apply(lambda x: return_date(x['date']), axis=1)"
      ]
    },
    {
      "cell_type": "code",
      "execution_count": null,
      "metadata": {
        "id": "QJ6zArj1KxAI"
      },
      "outputs": [],
      "source": [
        "test['Date']=test.apply(lambda x: return_date(x['date']), axis=1)"
      ]
    },
    {
      "cell_type": "code",
      "execution_count": null,
      "metadata": {
        "id": "TtND2abzK2Wp"
      },
      "outputs": [],
      "source": [
        "def return_experiencedate(a):\n",
        "  dicts={'janvier':1,'février':2,'mars':3,'avril':4,'mai':5,'juin':6,\n",
        "'juillet':7,'août':8,'septembre':9,\n",
        "'octobre':10,'novembre':11,'décembre':12}\n",
        "  d_dropna = list(filter(None,a.split(\" \"))) \n",
        "  return datetime.date(int(d_dropna[-1]), int(dicts[d_dropna[-2]]),1)\n",
        "\n",
        "train['experienceDate']=train.apply(lambda x: return_experiencedate(x['date']), axis=1)"
      ]
    },
    {
      "cell_type": "code",
      "execution_count": null,
      "metadata": {
        "id": "uWXAalRVLfiH"
      },
      "outputs": [],
      "source": [
        "test['experienceDate']=test.apply(lambda x: return_experiencedate(x['date']), axis=1)"
      ]
    },
    {
      "cell_type": "code",
      "execution_count": null,
      "metadata": {
        "id": "JTG4TxGdLo4r"
      },
      "outputs": [],
      "source": [
        "train=train.drop(['date'],axis=1)\n",
        "test=test.drop(['date'],axis=1)"
      ]
    },
    {
      "cell_type": "code",
      "execution_count": null,
      "metadata": {
        "colab": {
          "base_uri": "https://localhost:8080/",
          "height": 88
        },
        "id": "woH60ZkoZxXR",
        "outputId": "71cf1d4e-ea09-4d80-ae76-233f94387fd8"
      },
      "outputs": [],
      "source": [
        "import matplotlib.pyplot as plt\n",
        "import seaborn as sns\n",
        "reviews_length = train['avis'].str.len()\n",
        "\n",
        "plt.figure(figsize=(10,5))\n",
        "ax = sns.distplot(reviews_length, bins=150, kde=False, hist_kws=dict(alpha=0.8))\n",
        "ax.set(xlabel='Review Length')\n",
        "\n",
        "# Finalize the plot\n",
        "sns.despine(bottom=True)\n",
        "plt.tight_layout(h_pad=2)\n",
        "plt.show()"
      ]
    },
    {
      "cell_type": "code",
      "execution_count": null,
      "metadata": {
        "colab": {
          "base_uri": "https://localhost:8080/"
        },
        "id": "Z1OvlqDlabSt",
        "outputId": "598931c8-5ba0-4e67-b626-74ed496abdd0"
      },
      "outputs": [],
      "source": [
        "THRESHOLD = 2000\n",
        "short_reviews = train[train['avis'].str.len() <= THRESHOLD]\n",
        "long_reviews =  train[train['avis'].str.len() > THRESHOLD]\n",
        "\n",
        "print(\"{} reviews with LEN > {} ({:.2f} % of total data)\".format(\n",
        "    len(long_reviews),\n",
        "    THRESHOLD,\n",
        "    100 * len(long_reviews) / len(train)\n",
        "))"
      ]
    },
    {
      "cell_type": "code",
      "execution_count": null,
      "metadata": {
        "colab": {
          "base_uri": "https://localhost:8080/",
          "height": 88
        },
        "id": "ZZK9pNbqaszw",
        "outputId": "d187873d-c429-481d-d518-25b6c72f4368"
      },
      "outputs": [],
      "source": [
        "import matplotlib.pyplot as plt\n",
        "import seaborn as sns\n",
        "reviews_length = test['avis'].str.len()\n",
        "\n",
        "plt.figure(figsize=(10,5))\n",
        "ax = sns.distplot(reviews_length, bins=150, kde=False, hist_kws=dict(alpha=0.8))\n",
        "ax.set(xlabel='Review Length')\n",
        "\n",
        "# Finalize the plot\n",
        "sns.despine(bottom=True)\n",
        "plt.tight_layout(h_pad=2)\n",
        "plt.show()"
      ]
    },
    {
      "cell_type": "code",
      "execution_count": null,
      "metadata": {
        "colab": {
          "base_uri": "https://localhost:8080/"
        },
        "id": "rjLsqgp4axco",
        "outputId": "c175e43d-1934-4130-a03c-4d5bb58f89b4"
      },
      "outputs": [],
      "source": [
        "THRESHOLD = 2000\n",
        "short_reviews = test[test['avis'].str.len() <= THRESHOLD]\n",
        "long_reviews =  test[test['avis'].str.len() > THRESHOLD]\n",
        "\n",
        "print(\"{} reviews with LEN > {} ({:.2f} % of total data)\".format(\n",
        "    len(long_reviews),\n",
        "    THRESHOLD,\n",
        "    100 * len(long_reviews) / len(test)\n",
        "))"
      ]
    },
    {
      "cell_type": "code",
      "execution_count": null,
      "metadata": {
        "id": "4wcYeQkia-ty"
      },
      "outputs": [],
      "source": [
        "LENGTH_THRESH = 2000\n",
        "train = train[train['avis'].str.len() <= LENGTH_THRESH]"
      ]
    },
    {
      "cell_type": "code",
      "execution_count": null,
      "metadata": {
        "id": "oDPqFLT4bEMV"
      },
      "outputs": [],
      "source": [
        "LENGTH_THRESH = 2000\n",
        "test = test[test['avis'].str.len() <= LENGTH_THRESH]"
      ]
    },
    {
      "cell_type": "code",
      "execution_count": null,
      "metadata": {
        "id": "hi0zMXxFbUnh"
      },
      "outputs": [],
      "source": [
        "train=train.reset_index()\n",
        "test=test.reset_index()"
      ]
    },
    {
      "cell_type": "code",
      "execution_count": null,
      "metadata": {
        "colab": {
          "base_uri": "https://localhost:8080/"
        },
        "id": "Exg05KkcbVxh",
        "outputId": "21ff276e-9190-4384-95da-11c1618de63b"
      },
      "outputs": [],
      "source": [
        "len(train)"
      ]
    },
    {
      "cell_type": "code",
      "execution_count": null,
      "metadata": {
        "colab": {
          "base_uri": "https://localhost:8080/"
        },
        "id": "YHNDNClxbXRL",
        "outputId": "27098fd4-4a6b-4e2b-9a04-babf7a2d021c"
      },
      "outputs": [],
      "source": [
        "len(test)"
      ]
    },
    {
      "cell_type": "code",
      "execution_count": null,
      "metadata": {
        "id": "7yllqqUhNWzV"
      },
      "outputs": [],
      "source": [
        "trainbert=train.copy()"
      ]
    },
    {
      "cell_type": "code",
      "execution_count": null,
      "metadata": {
        "id": "aWIIeONiNbyx"
      },
      "outputs": [],
      "source": [
        "testbert=test.copy()"
      ]
    },
    {
      "cell_type": "code",
      "execution_count": null,
      "metadata": {
        "id": "Ulxah4juj9VI"
      },
      "outputs": [],
      "source": [
        "train_hub=train.copy()"
      ]
    },
    {
      "cell_type": "markdown",
      "metadata": {
        "id": "YXs2kU1YL69T"
      },
      "source": [
        "\n",
        "\n",
        "## Data visualisation"
      ]
    },
    {
      "cell_type": "code",
      "execution_count": null,
      "metadata": {
        "colab": {
          "base_uri": "https://localhost:8080/",
          "height": 292
        },
        "id": "eVz5T6oDL2we",
        "outputId": "447b84b2-7c62-4b12-c932-c92caff7c81b"
      },
      "outputs": [],
      "source": [
        "import matplotlib.pyplot as plt\n",
        "import seaborn as sns\n",
        "# the top 10 of assureur represent % of total\n",
        "print(\"Percentual of assureur: \")\n",
        "print(train['assureur'].value_counts().sort_values()[-10:]/len(train)*100 ) # printing the top 7 percentage of browsers\n",
        "\n",
        "# seting the graph size\n",
        "plt.figure(figsize=(14,6))\n",
        "\n",
        "# Let explore the browser used by users\n",
        "sns.countplot(train[train['assureur'].isin(train['assureur'].value_counts().sort_values()[-10:].index.values)]['assureur']\n",
        ", palette=\"hls\") # It's a module to count the category's\n",
        "plt.title(\"TOP 10 Most Frequent assureur\", fontsize=20) # Adding Title and seting the size\n",
        "plt.xlabel(\"assureur Names\", fontsize=16) # Adding x label and seting the size\n",
        "plt.ylabel(\"Count\", fontsize=16) # Adding y label and seting the size\n",
        "plt.xticks(rotation=45) # Adjust the xticks, rotating the labels\n",
        "\n",
        "plt.show() #use plt.show to render the graph that we did above"
      ]
    },
    {
      "cell_type": "code",
      "execution_count": null,
      "metadata": {
        "colab": {
          "base_uri": "https://localhost:8080/"
        },
        "id": "1AbJir5sN_7z",
        "outputId": "4500d380-d996-4674-b159-32d08414b401"
      },
      "outputs": [],
      "source": [
        "list(train['produit'].value_counts().index)"
      ]
    },
    {
      "cell_type": "code",
      "execution_count": null,
      "metadata": {
        "colab": {
          "base_uri": "https://localhost:8080/",
          "height": 462
        },
        "id": "KE58JutVMrjz",
        "outputId": "4ca012be-89a7-40ac-ab89-7019c0adb8e8"
      },
      "outputs": [],
      "source": [
        "p=train['produit'].value_counts().sort_values()[-8:]/len(train)*100 \n",
        "labels = list(train['produit'].value_counts().sort_values()[-8:].index)\n",
        "fig, ax = plt.subplots(1,1, figsize=(11,11))\n",
        "ax.set_title(\"buys mobile distro\")\n",
        "ax.pie(p, labels=labels, autopct='%1.1f%%',shadow=True, startangle=90)"
      ]
    },
    {
      "cell_type": "markdown",
      "metadata": {
        "id": "WDFfnhWdOwiX"
      },
      "source": [
        "So,58.5% is produit of auto"
      ]
    },
    {
      "cell_type": "code",
      "execution_count": null,
      "metadata": {
        "id": "EsATvXp8SGHs"
      },
      "outputs": [],
      "source": [
        "pd_average=pd.DataFrame([[0,0]],columns=['assureur','note'])\n",
        "dict_average={}\n",
        "assureur=list(train['assureur'].value_counts().index)\n",
        "for i in range(len(assureur)):\n",
        "  note=train[train['assureur']==assureur[i]]['note'].mean()\n",
        "  dict_average[assureur[i]]=note"
      ]
    },
    {
      "cell_type": "code",
      "execution_count": null,
      "metadata": {
        "colab": {
          "base_uri": "https://localhost:8080/",
          "height": 54
        },
        "id": "WN4a_SHURXOH",
        "outputId": "945bf9fb-298b-4c39-a166-9201976439fe"
      },
      "outputs": [],
      "source": [
        "import matplotlib.pyplot as plt\n",
        "import seaborn as sns\n",
        "# seting the graph size\n",
        "plt.figure(figsize=(14,6))\n",
        "\n",
        "# Let explore the browser used by users\n",
        "plt.bar(pd.DataFrame(pd.Series(dict_average),columns=['note']).sort_values(by='note')[-10:].index,pd.DataFrame(pd.Series(dict_average),columns=['note']).sort_values(by='note')[-10:]['note']) # It's a module to count the category's\n",
        "plt.title(\"TOP 10 Most largest average note assureur\", fontsize=20) # Adding Title and seting the size\n",
        "plt.xlabel(\"assureur Names\", fontsize=16) # Adding x label and seting the size\n",
        "plt.ylabel(\"Average\", fontsize=16) # Adding y label and seting the size\n",
        "plt.xticks(rotation=45) # Adjust the xticks, rotating the labels\n",
        "\n",
        "plt.show() #use plt.show to render the graph that we did above"
      ]
    },
    {
      "cell_type": "code",
      "execution_count": null,
      "metadata": {
        "colab": {
          "base_uri": "https://localhost:8080/",
          "height": 54
        },
        "id": "Xy16uvXkYNl3",
        "outputId": "e9277922-19c6-4bb4-cb25-9dc751b573b8"
      },
      "outputs": [],
      "source": [
        "pd_average=pd.DataFrame([[0,0]],columns=['produit','note'])\n",
        "dict_average={}\n",
        "produit=list(train['produit'].value_counts().index)\n",
        "for i in range(len(produit)):\n",
        "  note=train[train['produit']==produit[i]]['note'].mean()\n",
        "  dict_average[produit[i]]=note\n",
        "\n",
        "import matplotlib.pyplot as plt\n",
        "import seaborn as sns\n",
        "# seting the graph size\n",
        "plt.figure(figsize=(14,6))\n",
        "\n",
        "# Let explore the browser used by users\n",
        "plt.bar(pd.DataFrame(pd.Series(dict_average),columns=['note']).sort_values(by='note')[-10:].index,pd.DataFrame(pd.Series(dict_average),columns=['note']).sort_values(by='note')[-10:]['note']) # It's a module to count the category's\n",
        "plt.title(\"TOP 10 Most largest average note produit\", fontsize=20) # Adding Title and seting the size\n",
        "plt.xlabel(\"produit Names\", fontsize=16) # Adding x label and seting the size\n",
        "plt.ylabel(\"Average\", fontsize=16) # Adding y label and seting the size\n",
        "plt.xticks(rotation=45) # Adjust the xticks, rotating the labels\n",
        "\n",
        "plt.show() #use plt.show to render the graph that we did above"
      ]
    },
    {
      "cell_type": "markdown",
      "metadata": {
        "id": "WVZOOxwoaFNi"
      },
      "source": [
        "## Do some cleaning"
      ]
    },
    {
      "cell_type": "markdown",
      "metadata": {
        "id": "kbMQXoDe6_Ro"
      },
      "source": [
        "### Install treetagger"
      ]
    },
    {
      "cell_type": "code",
      "execution_count": null,
      "metadata": {
        "colab": {
          "base_uri": "https://localhost:8080/"
        },
        "id": "6Uo3_EZ5xbaO",
        "outputId": "8c876b33-3a3c-43d2-9724-950ebb21eb5e"
      },
      "outputs": [],
      "source": [
        "!pip install treetaggerwrapper"
      ]
    },
    {
      "cell_type": "code",
      "execution_count": null,
      "metadata": {
        "colab": {
          "base_uri": "https://localhost:8080/"
        },
        "id": "-_n3w2yMyts0",
        "outputId": "b5162833-c688-4701-c4af-0ad6a5f6c710"
      },
      "outputs": [],
      "source": [
        "mkdir treetagger_v6"
      ]
    },
    {
      "cell_type": "code",
      "execution_count": null,
      "metadata": {
        "colab": {
          "base_uri": "https://localhost:8080/"
        },
        "id": "mrYXeu-_yvm1",
        "outputId": "33093338-d56b-477e-f1c2-9ac90c2e828a"
      },
      "outputs": [],
      "source": [
        "cd treetagger_v6"
      ]
    },
    {
      "cell_type": "code",
      "execution_count": null,
      "metadata": {
        "colab": {
          "base_uri": "https://localhost:8080/"
        },
        "id": "iFgncvtcyxs7",
        "outputId": "0332b172-3c13-47db-ec3e-71a85c95b5fe"
      },
      "outputs": [],
      "source": [
        "!wget https://cis.lmu.de/~schmid/tools/TreeTagger/data/tree-tagger-linux-3.2.4.tar.gz\n",
        "!tar -xzvf tree-tagger-linux-3.2.4.tar.gz"
      ]
    },
    {
      "cell_type": "code",
      "execution_count": null,
      "metadata": {
        "colab": {
          "base_uri": "https://localhost:8080/"
        },
        "id": "2w1hwBToyz_E",
        "outputId": "1cf6009e-a4af-46c6-895c-002fc17e6926"
      },
      "outputs": [],
      "source": [
        "!wget https://cis.lmu.de/~schmid/tools/TreeTagger/data/tagger-scripts.tar.gz"
      ]
    },
    {
      "cell_type": "code",
      "execution_count": null,
      "metadata": {
        "colab": {
          "base_uri": "https://localhost:8080/"
        },
        "id": "RofXsQbiy4NX",
        "outputId": "dd160f39-a364-4a3b-b179-860d37a2d822"
      },
      "outputs": [],
      "source": [
        "!gunzip tagger-scripts.tar.gz"
      ]
    },
    {
      "cell_type": "code",
      "execution_count": null,
      "metadata": {
        "colab": {
          "base_uri": "https://localhost:8080/"
        },
        "id": "T7NBZEIFy7We",
        "outputId": "9d76b382-90c9-4077-be10-b757d3491fc9"
      },
      "outputs": [],
      "source": [
        "!wget https://cis.lmu.de/~schmid/tools/TreeTagger/data/install-tagger.sh"
      ]
    },
    {
      "cell_type": "code",
      "execution_count": null,
      "metadata": {
        "id": "5IgZouwUy-Kx"
      },
      "outputs": [],
      "source": [
        "!sh install-tagger.sh"
      ]
    },
    {
      "cell_type": "code",
      "execution_count": null,
      "metadata": {
        "colab": {
          "base_uri": "https://localhost:8080/"
        },
        "id": "NsJryFHGzApJ",
        "outputId": "8d4ff4be-64a5-4a54-bc23-2d4722d19e0c"
      },
      "outputs": [],
      "source": [
        "ls"
      ]
    },
    {
      "cell_type": "code",
      "execution_count": null,
      "metadata": {
        "colab": {
          "base_uri": "https://localhost:8080/"
        },
        "id": "txUOvtoczDdZ",
        "outputId": "9d21ec10-a2f6-4d8a-9261-a993c7efa0f6"
      },
      "outputs": [],
      "source": [
        "cd lib"
      ]
    },
    {
      "cell_type": "code",
      "execution_count": null,
      "metadata": {
        "colab": {
          "base_uri": "https://localhost:8080/"
        },
        "id": "A2GTWiw7zE3I",
        "outputId": "dcd81aa1-d256-48b2-aed7-948f32905294"
      },
      "outputs": [],
      "source": [
        "!wget https://cis.lmu.de/~schmid/tools/TreeTagger/data/french.par.gz"
      ]
    },
    {
      "cell_type": "code",
      "execution_count": null,
      "metadata": {
        "colab": {
          "base_uri": "https://localhost:8080/"
        },
        "id": "WAgL8zIszKT4",
        "outputId": "5b31b403-1f08-45f3-9121-c48582365898"
      },
      "outputs": [],
      "source": [
        "!gunzip french.par.gz"
      ]
    },
    {
      "cell_type": "code",
      "execution_count": null,
      "metadata": {
        "colab": {
          "base_uri": "https://localhost:8080/"
        },
        "id": "X9Fh7e5jzMRj",
        "outputId": "724df4b4-f9e9-401b-f96e-4095545e48c3"
      },
      "outputs": [],
      "source": [
        "cd .."
      ]
    },
    {
      "cell_type": "code",
      "execution_count": null,
      "metadata": {
        "colab": {
          "base_uri": "https://localhost:8080/"
        },
        "id": "rWFxD7J1zOi2",
        "outputId": "efe318c6-fb41-4ed6-f2e0-5f3e361f460e"
      },
      "outputs": [],
      "source": [
        "cd .."
      ]
    },
    {
      "cell_type": "markdown",
      "metadata": {
        "id": "Oy4klFab7Df0"
      },
      "source": [
        "### Clean the data"
      ]
    },
    {
      "cell_type": "code",
      "execution_count": null,
      "metadata": {
        "colab": {
          "base_uri": "https://localhost:8080/"
        },
        "id": "L89att4Zxhwm",
        "outputId": "9b691d56-5f5d-4008-bb8c-269798d994d9"
      },
      "outputs": [],
      "source": [
        "import treetaggerwrapper\n",
        "import re\n",
        "taggerssss = treetaggerwrapper.TreeTagger(TAGLANG='fr', TAGDIR='treetagger_v6/')"
      ]
    },
    {
      "cell_type": "code",
      "execution_count": null,
      "metadata": {
        "colab": {
          "base_uri": "https://localhost:8080/",
          "height": 1000
        },
        "id": "nsiVQWj3Tds2",
        "outputId": "4447f4d4-53b4-45f3-f90f-dc8ac53b946c"
      },
      "outputs": [],
      "source": [
        "def French_Preprocess_listofSentence(data):\n",
        "  all_lis=[]\n",
        "  for i in range(len(data)):\n",
        "    lis=[]\n",
        "    data.avis[i]=data.avis[i].lower()\n",
        "    data.avis[i]=re.sub(r'(https|http)?:\\/\\/(\\w|\\.|\\/|\\?|\\=|\\&|\\%)*\\b', '',data.avis[i], flags=re.MULTILINE)\n",
        "    data.avis[i]=re.sub(r'[\\S]+\\.(net|com|org|info|edu|gov|uk|de|ca|jp|fr|au|us|ru|ch|it|nel|se|no|es|mil)[\\S]*\\s?','',data.avis[i])\n",
        "    data.avis[i]=data.avis[i].replace('\\r', ' ').replace('\\n', ' ').replace('\\t', ' ')\n",
        "    data.avis[i]=data.avis[i].replace('.', '. ')\n",
        "    data.avis[i] = re.sub(r'[0-9]+', '', data.avis[i])\n",
        "    tags = taggerssss.tag_text(data.avis[i])\n",
        "    for k in tags:\n",
        "      lists=[]\n",
        "      result = eval(repr(k).replace('\\\\', '@'))\n",
        "      lists.append(result.split('@')[0])\n",
        "      lists.append(result.split('@')[1])\n",
        "      lis.append(lists)\n",
        "    all_lis.append(lis)\n",
        "    data['avis'][i]=all_lis[i]\n",
        "  return data\n",
        "\n",
        "French_Preprocess_listofSentence(train)"
      ]
    },
    {
      "cell_type": "code",
      "execution_count": null,
      "metadata": {
        "colab": {
          "base_uri": "https://localhost:8080/"
        },
        "id": "VRRGZVWsC4B2",
        "outputId": "6f9cca17-b3da-4811-df40-9863cb148598"
      },
      "outputs": [],
      "source": [
        "train.avis"
      ]
    },
    {
      "cell_type": "code",
      "execution_count": null,
      "metadata": {
        "id": "6C1ZuppbEW4g"
      },
      "outputs": [],
      "source": [
        "\n",
        "seg_word=train.avis\n",
        "n_word = seg_word.apply(lambda x: len(x)) "
      ]
    },
    {
      "cell_type": "code",
      "execution_count": null,
      "metadata": {
        "id": "gh9dcT4KE-tU"
      },
      "outputs": [],
      "source": [
        "n_content = [[x+1]*y for x,y in zip(list(seg_word.index), list(n_word))]\n",
        "index_content = sum(n_content, [])  "
      ]
    },
    {
      "cell_type": "code",
      "execution_count": null,
      "metadata": {
        "id": "BquI7MNELw06"
      },
      "outputs": [],
      "source": [
        "seg_word = sum(seg_word,[])\n",
        "# mot\n",
        "word = [x[0] for x in seg_word]\n",
        "# sens du mot\n",
        "nature = [x[1] for x in seg_word]"
      ]
    },
    {
      "cell_type": "code",
      "execution_count": null,
      "metadata": {
        "id": "BPKWBhagM9uF"
      },
      "outputs": [],
      "source": [
        "# content_type\n",
        "content_type = [[x]*y for x,y in zip(list(train['note']),list(n_word))]\n",
        "content_type = sum(content_type,[])"
      ]
    },
    {
      "cell_type": "code",
      "execution_count": null,
      "metadata": {
        "id": "NFV7RGU8O1ig"
      },
      "outputs": [],
      "source": [
        "\n",
        "result = pd.DataFrame({'index_content': index_content,\n",
        "                      'word' : word,\n",
        "                      'nature': nature,\n",
        "                      'note' : content_type})"
      ]
    },
    {
      "cell_type": "code",
      "execution_count": null,
      "metadata": {
        "colab": {
          "base_uri": "https://localhost:8080/",
          "height": 424
        },
        "id": "aaxxASmVPaig",
        "outputId": "5cb2c0cf-8431-40fc-aeb3-3182cf002ec8"
      },
      "outputs": [],
      "source": [
        "result"
      ]
    },
    {
      "cell_type": "code",
      "execution_count": null,
      "metadata": {
        "id": "ClYnvK6NmT4K"
      },
      "outputs": [],
      "source": [
        "result=result[result['nature'] != 'tPRO:PER']\n",
        "result = result[result['nature'] != 'tPUN']\n",
        "result = result[result['nature'] != 'tSENT']\n",
        "result = result[result['nature'] != 'tPRP:det']\n",
        "result = result[result['nature'] != 'tPRP']\n",
        "result = result[result['nature'] != 'tKON']\n",
        "result = result[result['nature'] != 'tVER:pres']"
      ]
    },
    {
      "cell_type": "code",
      "execution_count": null,
      "metadata": {
        "colab": {
          "base_uri": "https://localhost:8080/",
          "height": 424
        },
        "id": "3HmwN45dlT07",
        "outputId": "069f2d1b-c4e9-402b-8fde-8ee45d4f6d35"
      },
      "outputs": [],
      "source": [
        "result"
      ]
    },
    {
      "cell_type": "code",
      "execution_count": null,
      "metadata": {
        "colab": {
          "base_uri": "https://localhost:8080/"
        },
        "id": "sC0FJro3hse5",
        "outputId": "f415a493-f9a3-4d24-f383-a54414d75dac"
      },
      "outputs": [],
      "source": [
        "import nltk\n",
        "nltk.download('stopwords')\n",
        "french_stopwords = nltk.corpus.stopwords.words('french')\n",
        "word=list(result.word.values)\n",
        "words = list(set(word) - set(french_stopwords))\n",
        "result = result[result['word'].isin(words)]"
      ]
    },
    {
      "cell_type": "code",
      "execution_count": null,
      "metadata": {
        "id": "yTyjANfvknYt"
      },
      "outputs": [],
      "source": [
        "word=list(result.word.values)"
      ]
    },
    {
      "cell_type": "code",
      "execution_count": null,
      "metadata": {
        "colab": {
          "base_uri": "https://localhost:8080/"
        },
        "id": "FD8Rd2J0kFf1",
        "outputId": "032b0e06-1bce-49d8-96e3-3b8d8c9c1378"
      },
      "outputs": [],
      "source": [
        "import nltk\n",
        "vocabulary = nltk.FreqDist(word)\n",
        "for word, frequency in vocabulary.most_common(200):\n",
        "    print(f'{word};{frequency}')"
      ]
    },
    {
      "cell_type": "code",
      "execution_count": null,
      "metadata": {
        "id": "iOPku-9HpA8L"
      },
      "outputs": [],
      "source": [
        "reject_word=[\"l'\",\"n'\",\"c'\",\"d'\",'\"',\"€\",\"qu'\",\"ça\",\"où\",'%']\n",
        "word=list(result.word.values)\n",
        "words = list(set(word) - set(reject_word))\n",
        "result = result[result['word'].isin(words)]"
      ]
    },
    {
      "cell_type": "code",
      "execution_count": null,
      "metadata": {
        "colab": {
          "base_uri": "https://localhost:8080/",
          "height": 424
        },
        "id": "sSQv6_Hxpq-P",
        "outputId": "154a42d2-4020-4186-bb56-a720bcc11796"
      },
      "outputs": [],
      "source": [
        "result"
      ]
    },
    {
      "cell_type": "code",
      "execution_count": null,
      "metadata": {
        "colab": {
          "base_uri": "https://localhost:8080/"
        },
        "id": "uWgdRnspzWy0",
        "outputId": "fb0d5513-dcec-4e45-8942-78cb43d7eda9"
      },
      "outputs": [],
      "source": [
        "import nltk\n",
        "word=list(result.word.values)\n",
        "vocabulary = nltk.FreqDist(word)\n",
        "for word, frequency in vocabulary.most_common(200):\n",
        "    print(f'{word};{frequency}')"
      ]
    },
    {
      "cell_type": "code",
      "execution_count": null,
      "metadata": {
        "id": "H8rC_C5ZjGfj"
      },
      "outputs": [],
      "source": [
        "# construire la colonne de la position du mot dans la phrase\n",
        "import numpy as np\n",
        "n_word = list(result.groupby(by=['index_content'])['index_content'].count())\n",
        "index_word = [list(np.arange(0,x)) for x in n_word]\n",
        "index_word = sum(index_word,[])\n",
        "result['index_word'] = index_word\n",
        "result.reset_index(drop=True,inplace=True)"
      ]
    },
    {
      "cell_type": "code",
      "execution_count": null,
      "metadata": {
        "id": "9GIe7YG7jQKY"
      },
      "outputs": [],
      "source": [
        "# extraire les id des phrases possedant des nom (et pas des verbes)\n",
        "ind = result[[x == 'tNOM' for x in result['nature']]]['index_content'].unique()\n",
        "# extraire commentaire results\n",
        "results = result[result['index_content'].isin(ind)]\n",
        "# reset lindex\n",
        "results.reset_index(drop=True,inplace=True)"
      ]
    },
    {
      "cell_type": "code",
      "execution_count": null,
      "metadata": {
        "id": "XZ1yvNciz6HE"
      },
      "outputs": [],
      "source": [
        "import nltk\n",
        "word=list(results.word.values)\n",
        "final_vocabulary = nltk.FreqDist(word)"
      ]
    },
    {
      "cell_type": "code",
      "execution_count": null,
      "metadata": {
        "colab": {
          "base_uri": "https://localhost:8080/"
        },
        "id": "udhNNm1m0lbi",
        "outputId": "f8b2e166-fce3-4394-c9d7-ef2bef3b4657"
      },
      "outputs": [],
      "source": [
        "len(final_vocabulary)"
      ]
    },
    {
      "cell_type": "code",
      "execution_count": null,
      "metadata": {
        "id": "CHt3-Ceo0IFp"
      },
      "outputs": [],
      "source": [
        "MAX_FEATURES = 12000 # freq de mot max\n",
        "vocab_size = min(MAX_FEATURES, len(final_vocabulary)) + 2\n",
        "# construire le dict de la freq des mots\n",
        "word2index = {x[0]: i+2 for i, x in enumerate(final_vocabulary.most_common(MAX_FEATURES))}\n",
        "word2index[\"PAD\"] = 0\n",
        "word2index[\"UNK\"] = 1\n",
        "# enregistrer le dict de la freq des mots"
      ]
    },
    {
      "cell_type": "code",
      "execution_count": null,
      "metadata": {
        "id": "JS5PKs5U0gLZ"
      },
      "outputs": [],
      "source": [
        "import pickle\n",
        "with open('word_dict.pickle', 'wb') as handle:\n",
        "    pickle.dump(word2index, handle, protocol=pickle.HIGHEST_PROTOCOL)"
      ]
    },
    {
      "cell_type": "code",
      "execution_count": null,
      "metadata": {
        "colab": {
          "base_uri": "https://localhost:8080/",
          "height": 248
        },
        "id": "HNXiun4kAUk3",
        "outputId": "085e1ba7-7fa5-42bd-e57d-fed18290f9d1"
      },
      "outputs": [],
      "source": [
        "from wordcloud import WordCloud\n",
        "import matplotlib.pyplot as plt\n",
        "\n",
        "# groupby word.count\n",
        "frequencies = results.groupby(by = ['word'])['word'].count()\n",
        "# ordre descendant\n",
        "frequencies = frequencies.sort_values(ascending = False)[:200]\n",
        "wordlist=list(frequencies.index)\n",
        "wordcloud = WordCloud(background_color=\"white\",width=1000, height=860, margin=2).generate(str(wordlist))\n",
        "import matplotlib.pyplot as plt\n",
        "plt.imshow(wordcloud)\n",
        "plt.axis(\"off\")\n",
        "plt.show()"
      ]
    },
    {
      "cell_type": "code",
      "execution_count": null,
      "metadata": {
        "id": "XFR7KEQGAqUB"
      },
      "outputs": [],
      "source": [
        "all_data=pd.concat([trainbert,testbert],axis=0)"
      ]
    },
    {
      "cell_type": "code",
      "execution_count": null,
      "metadata": {
        "colab": {
          "base_uri": "https://localhost:8080/"
        },
        "id": "Q5CJ4NPIYaa1",
        "outputId": "698fea12-aaf7-44f1-cd7e-5b1c5d107866"
      },
      "outputs": [],
      "source": [
        "\n",
        "!pip install git+https://github.com/ClaudeCoulombe/FrenchLefffLemmatizer.git &> /dev/null\n",
        "import nltk\n",
        "import string\n",
        "from french_lefff_lemmatizer.french_lefff_lemmatizer import FrenchLefffLemmatizer\n",
        "\n",
        "nltk.download('wordnet')\n",
        "nltk.download('punkt')\n",
        "nltk.download('stopwords')\n",
        "french_stopwords = nltk.corpus.stopwords.words('french')\n",
        "lemmatizer = FrenchLefffLemmatizer()\n",
        "def French_Preprocess_listofSentence(sentence):\n",
        "    preprocess_list = []\n",
        "    sentence_w_punct = \"\".join([i.lower() for i in sentence if i not in string.punctuation])\n",
        "\n",
        "    sentence_w_num = ''.join(i for i in sentence_w_punct if not i.isdigit())\n",
        "\n",
        "    tokenize_sentence = nltk.tokenize.word_tokenize(sentence_w_num)\n",
        "\n",
        "    return tokenize_sentence\n",
        "\n",
        "new_avis=[]\n",
        "l=len(train['avis'])\n",
        "for i in range(l):\n",
        "  new_avis.append(French_Preprocess_listofSentence(all_data['avis'][i]))"
      ]
    },
    {
      "cell_type": "code",
      "execution_count": null,
      "metadata": {
        "id": "XquQc3yhwyNV"
      },
      "outputs": [],
      "source": [
        "import gensim \n",
        "# train word2vec on the two sentences\n",
        "num_features = 300    # Word vector dimensionality\n",
        "min_word_count = 10   # Minimum word count\n",
        "num_workers = 16       # Number of threads to run in parallel\n",
        "context = 10          # Context window size\n",
        "downsampling = 1e-3   # Downsample setting for frequent words\n",
        "model = gensim.models.Word2Vec(new_avis, workers=num_workers, \\\n",
        "            size=num_features, min_count = min_word_count, \\\n",
        "            window = context, sg = 1, sample = downsampling)"
      ]
    },
    {
      "cell_type": "code",
      "execution_count": null,
      "metadata": {
        "colab": {
          "base_uri": "https://localhost:8080/"
        },
        "id": "ie0riIYuxYmn",
        "outputId": "972c3b5b-0ce2-4f0a-f341-6cd6bdb001b1"
      },
      "outputs": [],
      "source": [
        "w = 'meilleur'\n",
        "r = model.similar_by_word(w)\n",
        "\n",
        "print(\"Le plus proche word avec \"+w+\" est：\")\n",
        "for i in r:\n",
        "    print(i)"
      ]
    },
    {
      "cell_type": "code",
      "execution_count": null,
      "metadata": {
        "colab": {
          "background_save": true,
          "base_uri": "https://localhost:8080/"
        },
        "id": "R3T8U2QmJzM7",
        "outputId": "b443f8d6-2119-4bbc-b317-1b4a1fb985fc"
      },
      "outputs": [],
      "source": [
        "from sklearn.manifold import TSNE\n",
        "import matplotlib.pyplot as plt\n",
        "def tsne_plot(model):\n",
        "    \"Creates and TSNE model and plots it\"\n",
        "    labels = []\n",
        "    tokens = []\n",
        "\n",
        "    for word in list(model.wv.index2word):\n",
        "        tokens.append(model.wv[word])\n",
        "        labels.append(word)\n",
        "    \n",
        "    tsne_model = TSNE(perplexity=40, n_components=2, init='pca', n_iter=2500, random_state=23)\n",
        "    new_values = tsne_model.fit_transform(tokens)\n",
        "\n",
        "    x = []\n",
        "    y = []\n",
        "    for value in new_values:\n",
        "        x.append(value[0])\n",
        "        y.append(value[1])\n",
        "\n",
        "    plt.figure(figsize=(26, 26)) \n",
        "    for i in range(len(x)):\n",
        "      plt.scatter(x[i],y[i])\n",
        "      plt.annotate(labels[i],\n",
        "                     xy=(x[i], y[i]),\n",
        "                     xytext=(4, 1),\n",
        "                     textcoords='offset points',\n",
        "                     ha='right',\n",
        "                     va='bottom')\n",
        "    plt.show()\n",
        "\n",
        "tsne_plot(model)\n"
      ]
    },
    {
      "cell_type": "markdown",
      "metadata": {
        "id": "3QYVdv4hnDlt"
      },
      "source": [
        "# Unsupervised learning"
      ]
    },
    {
      "cell_type": "code",
      "execution_count": null,
      "metadata": {
        "colab": {
          "background_save": true
        },
        "id": "jKyuSh1C1ang",
        "outputId": "1afbe06e-1a86-45b0-d1d1-e054e77da310"
      },
      "outputs": [],
      "source": [
        "results.note.value_counts()"
      ]
    },
    {
      "cell_type": "code",
      "execution_count": null,
      "metadata": {
        "colab": {
          "background_save": true
        },
        "id": "Wcw0xQKS1gwN"
      },
      "outputs": [],
      "source": [
        "datanote1=results[results.note==1]\n",
        "datanote2=results[results.note==2]\n",
        "datanote3=results[results.note==3]\n",
        "datanote4=results[results.note==4]\n",
        "datanote5=results[results.note==5]"
      ]
    },
    {
      "cell_type": "code",
      "execution_count": null,
      "metadata": {
        "colab": {
          "background_save": true
        },
        "id": "tTzW_Jp5D17e",
        "outputId": "3bfbe0bf-1d55-4f21-dd3e-606b770b7541"
      },
      "outputs": [],
      "source": [
        "datanote2"
      ]
    },
    {
      "cell_type": "code",
      "execution_count": null,
      "metadata": {
        "colab": {
          "background_save": true
        },
        "id": "ULtVBoRWD-6U"
      },
      "outputs": [],
      "source": [
        "ind=list(datanote1.index_content.value_counts().index)"
      ]
    },
    {
      "cell_type": "code",
      "execution_count": null,
      "metadata": {
        "id": "F_wPuVT9ElL1"
      },
      "outputs": [],
      "source": [
        "list_word1=[]\n",
        "for i in ind:\n",
        "  list_word1.append(list(datanote1[datanote1.index_content==i].word.values))"
      ]
    },
    {
      "cell_type": "code",
      "execution_count": null,
      "metadata": {
        "id": "WO4TdLX1FBet"
      },
      "outputs": [],
      "source": [
        "dict1 = corpora.Dictionary(list_word1)  \n",
        "corpus1 = [dict1.doc2bow(j) for j in list_word1]  "
      ]
    },
    {
      "cell_type": "code",
      "execution_count": null,
      "metadata": {
        "id": "9YhrTH-pLEq0"
      },
      "outputs": [],
      "source": [
        "list_word2=[]\n",
        "ind=list(datanote2.index_content.value_counts().index)\n",
        "for i in ind:\n",
        "  list_word2.append(list(datanote2[datanote2.index_content==i].word.values))\n",
        "dict2 = corpora.Dictionary(list_word2)  \n",
        "corpus2 = [dict2.doc2bow(j) for j in list_word2]  \n"
      ]
    },
    {
      "cell_type": "code",
      "execution_count": null,
      "metadata": {
        "id": "MasuWbg4LY_d"
      },
      "outputs": [],
      "source": [
        "list_word3=[]\n",
        "ind=list(datanote3.index_content.value_counts().index)\n",
        "for i in ind:\n",
        "  list_word3.append(list(datanote3[datanote3.index_content==i].word.values))\n",
        "dict3 = corpora.Dictionary(list_word3)  \n",
        "corpus3 = [dict3.doc2bow(j) for j in list_word3]  \n",
        "\n",
        "list_word4=[]\n",
        "ind=list(datanote4.index_content.value_counts().index)\n",
        "for i in ind:\n",
        "  list_word4.append(list(datanote4[datanote4.index_content==i].word.values))\n",
        "dict4 = corpora.Dictionary(list_word4)  \n",
        "corpus4 = [dict4.doc2bow(j) for j in list_word4]  \n",
        "\n",
        "list_word5=[]\n",
        "ind=list(datanote5.index_content.value_counts().index)\n",
        "for i in ind:\n",
        "  list_word5.append(list(datanote5[datanote5.index_content==i].word.values))\n",
        "dict5 = corpora.Dictionary(list_word5)  \n",
        "corpus5 = [dict5.doc2bow(j) for j in list_word5]  "
      ]
    },
    {
      "cell_type": "code",
      "execution_count": null,
      "metadata": {
        "id": "p0ljzXqM9AgM"
      },
      "outputs": [],
      "source": [
        "!pip install gensim==3.6.0"
      ]
    },
    {
      "cell_type": "code",
      "execution_count": null,
      "metadata": {
        "id": "8LTQLQBjCIh0"
      },
      "outputs": [],
      "source": [
        "!pip install  pyLDAvis"
      ]
    },
    {
      "cell_type": "code",
      "execution_count": null,
      "metadata": {
        "id": "T4B6QlbjGDqM"
      },
      "outputs": [],
      "source": [
        "!pip install pandas --upgrade"
      ]
    },
    {
      "cell_type": "code",
      "execution_count": null,
      "metadata": {
        "id": "9A1WLF3nsu41"
      },
      "outputs": [],
      "source": [
        "from gensim import corpora, models\n",
        "from sklearn.decomposition import LatentDirichletAllocation\n",
        "import pyLDAvis\n",
        "import pyLDAvis.sklearn\n",
        "# Build LDA model\n",
        "lda_model =  models.ldamodel.LdaModel(corpus=corpus1,\n",
        "                                           id2word=dict1,\n",
        "                                           num_topics=4, \n",
        "                                           random_state=100,\n",
        "                                           update_every=1,\n",
        "                                           chunksize=100,\n",
        "                                           passes=10,\n",
        "                                           alpha='auto',\n",
        "                                           per_word_topics=True)"
      ]
    },
    {
      "cell_type": "code",
      "execution_count": null,
      "metadata": {
        "colab": {
          "base_uri": "https://localhost:8080/"
        },
        "id": "QL-QEWVCH0or",
        "outputId": "a48db4bb-c6bb-4e9c-ff41-7e732448e456"
      },
      "outputs": [],
      "source": [
        "print(\"The note 1\")\n",
        "lda_model.print_topics(num_words=5)"
      ]
    },
    {
      "cell_type": "code",
      "execution_count": null,
      "metadata": {
        "id": "-zNuX3JLPEA7"
      },
      "outputs": [],
      "source": [
        "lda_model2 =  models.ldamodel.LdaModel(corpus=corpus2,\n",
        "                                           id2word=dict2,\n",
        "                                           num_topics=4, \n",
        "                                           random_state=100,\n",
        "                                           update_every=1,\n",
        "                                           chunksize=100,\n",
        "                                           passes=10,\n",
        "                                           alpha='auto',\n",
        "                                           per_word_topics=True)\n",
        "\n",
        "\n",
        "lda_model3 =  models.ldamodel.LdaModel(corpus=corpus3,\n",
        "                                           id2word=dict3,\n",
        "                                           num_topics=4, \n",
        "                                           random_state=100,\n",
        "                                           update_every=1,\n",
        "                                           chunksize=100,\n",
        "                                           passes=10,\n",
        "                                           alpha='auto',\n",
        "                                           per_word_topics=True)\n"
      ]
    },
    {
      "cell_type": "code",
      "execution_count": null,
      "metadata": {
        "id": "M69wculqQtUh"
      },
      "outputs": [],
      "source": [
        "\n",
        "lda_model4 =  models.ldamodel.LdaModel(corpus=corpus4,\n",
        "                                           id2word=dict4,\n",
        "                                           num_topics=4, \n",
        "                                           random_state=100,\n",
        "                                           update_every=1,\n",
        "                                           chunksize=100,\n",
        "                                           passes=10,\n",
        "                                           alpha='auto',\n",
        "                                           per_word_topics=True)\n",
        "\n",
        "\n",
        "lda_model5 =  models.ldamodel.LdaModel(corpus=corpus5,\n",
        "                                           id2word=dict5,\n",
        "                                           num_topics=4, \n",
        "                                           random_state=100,\n",
        "                                           update_every=1,\n",
        "                                           chunksize=100,\n",
        "                                           passes=10,\n",
        "                                           alpha='auto',\n",
        "                                           per_word_topics=True)"
      ]
    },
    {
      "cell_type": "code",
      "execution_count": null,
      "metadata": {
        "colab": {
          "base_uri": "https://localhost:8080/"
        },
        "id": "0o9jSip9Itmh",
        "outputId": "2a883905-0954-41a6-e2a8-d32d50ee8d9f"
      },
      "outputs": [],
      "source": [
        "print(\"The note 2\")\n",
        "lda_model2.print_topics(num_words=5)"
      ]
    },
    {
      "cell_type": "code",
      "execution_count": null,
      "metadata": {
        "colab": {
          "base_uri": "https://localhost:8080/"
        },
        "id": "dQPMKsamIvqG",
        "outputId": "775a33af-48a5-447d-ecfd-9ac83b82d74d"
      },
      "outputs": [],
      "source": [
        "print(\"The note 3\")\n",
        "lda_model3.print_topics(num_words=5)"
      ]
    },
    {
      "cell_type": "code",
      "execution_count": null,
      "metadata": {
        "colab": {
          "base_uri": "https://localhost:8080/"
        },
        "id": "W_SGF3qmIwnS",
        "outputId": "3ef0d74d-501d-4325-c9a4-fa0b45c05f96"
      },
      "outputs": [],
      "source": [
        "print(\"The note 4\")\n",
        "lda_model4.print_topics(num_words=5)"
      ]
    },
    {
      "cell_type": "code",
      "execution_count": null,
      "metadata": {
        "colab": {
          "base_uri": "https://localhost:8080/"
        },
        "id": "eGfVntxXIzxZ",
        "outputId": "b412de30-e446-4ff1-a79d-b4eea822a6b0"
      },
      "outputs": [],
      "source": [
        "print(\"The note 5\")\n",
        "lda_model5.print_topics(num_words=5)"
      ]
    },
    {
      "cell_type": "code",
      "execution_count": null,
      "metadata": {
        "id": "asx0q-_Gxfdz"
      },
      "outputs": [],
      "source": [
        "import pyLDAvis\n",
        "import pyLDAvis.sklearn\n",
        "from pyLDAvis import gensim_models"
      ]
    },
    {
      "cell_type": "code",
      "execution_count": null,
      "metadata": {
        "id": "jcEcu612JjB-"
      },
      "outputs": [],
      "source": [
        "!pip install --upgrade pandas==1.2"
      ]
    },
    {
      "cell_type": "code",
      "execution_count": null,
      "metadata": {
        "id": "9B19OPiqxhCt"
      },
      "outputs": [],
      "source": [
        "pyLDAvis.enable_notebook()\n",
        "vis = gensim_models.prepare(lda_model, corpus1, dict1)\n",
        "vis"
      ]
    },
    {
      "cell_type": "code",
      "execution_count": null,
      "metadata": {
        "id": "uSyUcWNMQUT2"
      },
      "outputs": [],
      "source": [
        "pyLDAvis.enable_notebook()\n",
        "vis2 = gensim_models.prepare(lda_model2, corpus2, dict2)\n",
        "vis2"
      ]
    },
    {
      "cell_type": "code",
      "execution_count": null,
      "metadata": {
        "id": "JjAzvCC_QaQm"
      },
      "outputs": [],
      "source": [
        "pyLDAvis.enable_notebook()\n",
        "vis3 = gensim_models.prepare(lda_model3, corpus3, dict3)\n",
        "vis3"
      ]
    },
    {
      "cell_type": "code",
      "execution_count": null,
      "metadata": {
        "id": "-HXX6QoXQhGp"
      },
      "outputs": [],
      "source": [
        "pyLDAvis.enable_notebook()\n",
        "vis4 = gensim_models.prepare(lda_model4, corpus4, dict4)\n",
        "vis4"
      ]
    },
    {
      "cell_type": "code",
      "execution_count": null,
      "metadata": {
        "id": "C2u-5DCIQ6E2"
      },
      "outputs": [],
      "source": [
        "pyLDAvis.enable_notebook()\n",
        "vis5 = gensim_models.prepare(lda_model5, corpus5, dict5)\n",
        "vis5"
      ]
    },
    {
      "cell_type": "markdown",
      "metadata": {
        "id": "f_j5dYLlHtmI"
      },
      "source": [
        "# Supervised learning"
      ]
    },
    {
      "cell_type": "markdown",
      "metadata": {
        "id": "ORyDzhp5RRs4"
      },
      "source": [
        "## Tensorflow hub"
      ]
    },
    {
      "cell_type": "code",
      "execution_count": null,
      "metadata": {
        "id": "qZCU6JguRt9Q"
      },
      "outputs": [],
      "source": [
        "train_data=train_hub.copy()"
      ]
    },
    {
      "cell_type": "code",
      "execution_count": null,
      "metadata": {
        "id": "X6P0GVsmRQxl"
      },
      "outputs": [],
      "source": [
        "import pandas as pd\n",
        "import matplotlib.pyplot as plt\n",
        "from matplotlib import font_manager\n",
        "from itertools import accumulate\n",
        "\n",
        "print(train_data.groupby('note')['note'].count())\n",
        "\n",
        "train_data['length'] = train_data['avis'].apply(lambda x: len(x))\n",
        "len_df = train_data.groupby('length').count()\n",
        "sent_length = len_df.index.tolist()\n",
        "sent_freq = len_df['avis'].tolist()\n",
        "\n",
        "plt.bar(sent_length, sent_freq)\n",
        "plt.title(\"Sentence length and frequency statistics graph\")\n",
        "plt.xlabel(\"Sentence length\")\n",
        "plt.ylabel(\"The frequency of sentence length\")\n",
        "plt.show()\n",
        "\n",
        "sent_pentage_list = [(count/sum(sent_freq)) for count in accumulate(sent_freq)]\n",
        "plt.plot(sent_length, sent_pentage_list)\n",
        "quantile = 0.91\n",
        "#print(list(sent_pentage_list))\n",
        "for length, per in zip(sent_length, sent_pentage_list):\n",
        "    if round(per, 2) == quantile:\n",
        "        index = length\n",
        "        break\n",
        "print(\"\\nSentence length with quantile %s:%d.\" % (quantile, index))\n",
        "plt.plot(sent_length, sent_pentage_list)\n",
        "plt.hlines(quantile, 0, index, colors=\"c\", linestyles=\"dashed\")\n",
        "plt.vlines(index, 0, quantile, colors=\"c\", linestyles=\"dashed\")\n",
        "plt.text(0, quantile, str(quantile))\n",
        "plt.text(index, 0, str(index))\n",
        "plt.title(\"Sentence length cumulative distribution function graph\")\n",
        "plt.xlabel(\"Sentence length\")\n",
        "plt.ylabel(\"Sentence length cumulative frequency\")\n",
        "plt.show()"
      ]
    },
    {
      "cell_type": "code",
      "execution_count": null,
      "metadata": {
        "id": "M_ni745fX1qo"
      },
      "outputs": [],
      "source": [
        "!pip install tensorflow_text"
      ]
    },
    {
      "cell_type": "code",
      "execution_count": null,
      "metadata": {
        "id": "04CdlmNHTSgS"
      },
      "outputs": [],
      "source": [
        "# -*- coding: utf-8 -*-\n",
        "\n",
        "import pickle\n",
        "import numpy as np\n",
        "import pandas as pd\n",
        "from keras.utils import np_utils\n",
        "from keras.utils.vis_utils import plot_model\n",
        "from keras.models import Sequential\n",
        "from keras.preprocessing.sequence import pad_sequences\n",
        "from keras.layers import LSTM, Dense, Embedding, Dropout\n",
        "from sklearn.model_selection import train_test_split\n",
        "from sklearn.metrics import accuracy_score\n",
        "import tensorflow_hub as hub\n",
        "import tensorflow as tf\n",
        "import tensorflow_text\n",
        "embedding=hub.load('https://tfhub.dev/google/universal-sentence-encoder-multilingual/3')\n",
        "hub_layer=hub.KerasLayer(embedding,input_shape=[],dtype=tf.string,trainable=True)"
      ]
    },
    {
      "cell_type": "code",
      "execution_count": null,
      "metadata": {
        "id": "GFUhoAjBOz0Z"
      },
      "outputs": [],
      "source": [
        "train_data.avis"
      ]
    },
    {
      "cell_type": "code",
      "execution_count": null,
      "metadata": {
        "id": "P0IbWdATjlcZ"
      },
      "outputs": [],
      "source": [
        "target=train_data.pop('note')"
      ]
    },
    {
      "cell_type": "code",
      "execution_count": null,
      "metadata": {
        "id": "ionDpESmaRLM"
      },
      "outputs": [],
      "source": [
        "hub_layer=hub.KerasLayer(embedding,input_shape=[],dtype=tf.string,trainable=True)"
      ]
    },
    {
      "cell_type": "code",
      "execution_count": null,
      "metadata": {
        "id": "O4djri-tXWrJ"
      },
      "outputs": [],
      "source": [
        "from keras.layers.core import Activation, Dense, SpatialDropout1D\n",
        "def rmse(predictions, targets):\n",
        "    return tf.sqrt(tf.reduce_mean((targets-predictions)**2))\n",
        "def create_model(embedding):\n",
        "  model = tf.keras.Sequential()\n",
        "  model.add(hub_layer)\n",
        "  model.add(tf.keras.layers.Dense(16,activation='relu'))\n",
        "  model.add(tf.keras.layers.Dense(1))\n",
        "\n",
        "  model.summary()\n",
        "  model.compile(loss=rmse, optimizer='Adam', metrics=[tf.keras.metrics.RootMeanSquaredError()])\n",
        "  return model"
      ]
    },
    {
      "cell_type": "code",
      "execution_count": null,
      "metadata": {
        "id": "mRpLtMQBrxYT"
      },
      "outputs": [],
      "source": [
        "x=list(train_data.avis.values)\n",
        "y=list(target.values)\n",
        "for i in range(len(y)):\n",
        "  y[i]=float(y[i])\n",
        "\n",
        "train_x,test_x,train_y,test_y=train_test_split(x,y,test_size=0.2,random_state=42)\n",
        "train_y=np.asarray(y)\n",
        "test_y=np.asarray(test_y)\n",
        "train_x=np.asarray(x)\n",
        "test_x=np.asarray(test_x)"
      ]
    },
    {
      "cell_type": "code",
      "execution_count": null,
      "metadata": {
        "colab": {
          "base_uri": "https://localhost:8080/"
        },
        "id": "hpTfeCnkNCW6",
        "outputId": "7ae951ed-c721-48d9-9214-8009a94a02d4"
      },
      "outputs": [],
      "source": [
        "model_pretrain_embedding_hub.summary()"
      ]
    },
    {
      "cell_type": "code",
      "execution_count": null,
      "metadata": {
        "id": "F-q6WBcddFA9"
      },
      "outputs": [],
      "source": [
        "model_pretrain_embedding_hub=create_model(embedding)"
      ]
    },
    {
      "cell_type": "code",
      "execution_count": null,
      "metadata": {
        "id": "7L9EkZSs1eLa"
      },
      "outputs": [],
      "source": [
        "model_pretrain_embedding_hub.layers[0].trainable=False"
      ]
    },
    {
      "cell_type": "code",
      "execution_count": null,
      "metadata": {
        "id": "G1CmYlSefEgt"
      },
      "outputs": [],
      "source": [
        "history = model_pretrain_embedding_hub.fit(train_x, train_y, validation_data=(test_x,test_y),epochs=10, batch_size=512, verbose=1)"
      ]
    },
    {
      "cell_type": "code",
      "execution_count": null,
      "metadata": {
        "id": "dGMB0P2Do8TO"
      },
      "outputs": [],
      "source": [
        "def rmse(predictions, targets):\n",
        "    return np.sqrt(((predictions - targets) ** 2).mean())\n",
        "y_predict=model_pretrain_embedding_hub.predict(test_x)\n",
        "rmse(y_predict, test_y)"
      ]
    },
    {
      "cell_type": "code",
      "execution_count": null,
      "metadata": {
        "colab": {
          "base_uri": "https://localhost:8080/"
        },
        "id": "f07Kt9tZHJiF",
        "outputId": "a3873ba7-9c86-4b8a-a162-ff4b9dcebad4"
      },
      "outputs": [],
      "source": [
        "!ls"
      ]
    },
    {
      "cell_type": "code",
      "execution_count": null,
      "metadata": {
        "id": "vX7c9UbRPgSy"
      },
      "outputs": [],
      "source": [
        "Test_final_x=list(test.avis.values)\n",
        "Test_final_x=np.asarray(Test_final_x)\n",
        "Final_predict=model_pretrain_embedding_hub.predict(Test_final_x)\n",
        "Final_result=test.copy()\n",
        "Final_result['avis']=Final_predict"
      ]
    },
    {
      "cell_type": "code",
      "execution_count": null,
      "metadata": {
        "id": "Yt8k-mhvHqJy"
      },
      "outputs": [],
      "source": [
        "Final_result_model_pretrain_embedding_hub=Final_result"
      ]
    },
    {
      "cell_type": "code",
      "execution_count": null,
      "metadata": {
        "id": "pic2QIXCHRph"
      },
      "outputs": [],
      "source": [
        "Final_result_model_pretrain_embedding_hub.to_pickle(\"Final_result_model_pretrain_embedding_hub.pkl\")"
      ]
    },
    {
      "cell_type": "code",
      "execution_count": null,
      "metadata": {
        "colab": {
          "base_uri": "https://localhost:8080/"
        },
        "id": "JJityF9iHth-",
        "outputId": "1319b99e-a4e5-4b0a-bca5-75f79d740fbd"
      },
      "outputs": [],
      "source": [
        "!ls"
      ]
    },
    {
      "cell_type": "markdown",
      "metadata": {
        "id": "JfBxwFWi-2Ef"
      },
      "source": [
        "## LSTM"
      ]
    },
    {
      "cell_type": "code",
      "execution_count": null,
      "metadata": {
        "id": "5aIH55gs2PsZ"
      },
      "outputs": [],
      "source": [
        "# load le dictionnarie de split word\n",
        "with open('word_dict.pickle', 'rb') as handle:\n",
        "    word2index = pickle.load(handle)\n",
        "\n",
        "### preparer les data\n",
        "MAX_FEATURES = 120002 # freq max des mots \n",
        "MAX_SENTENCE_LENGTH = 300 # longueur max de la phrase\n",
        "num_recs = 0  # nombre de sample\n",
        "\n",
        "# initialiser la list des phrases et de label\n",
        "X = np.empty(num_recs,dtype=list)\n",
        "i=0"
      ]
    },
    {
      "cell_type": "code",
      "execution_count": null,
      "metadata": {
        "colab": {
          "base_uri": "https://localhost:8080/"
        },
        "id": "LmrddVPn2tD8",
        "outputId": "eebc138c-5b3e-4bd9-8578-af47a1b6cad0"
      },
      "outputs": [],
      "source": [
        "!pip install git+https://github.com/ClaudeCoulombe/FrenchLefffLemmatizer.git &> /dev/null\n",
        "import nltk\n",
        "import string\n",
        "from french_lefff_lemmatizer.french_lefff_lemmatizer import FrenchLefffLemmatizer\n",
        "\n",
        "nltk.download('wordnet')\n",
        "nltk.download('punkt')\n",
        "nltk.download('stopwords')\n",
        "french_stopwords = nltk.corpus.stopwords.words('french')\n",
        "lemmatizer = FrenchLefffLemmatizer()\n",
        "def French_Preprocess_listofSentence(sentence):\n",
        "    preprocess_list = []\n",
        "    sentence_w_punct = \"\".join([i.lower() for i in sentence if i not in string.punctuation])\n",
        "\n",
        "    sentence_w_num = ''.join(i for i in sentence_w_punct if not i.isdigit())\n",
        "\n",
        "    tokenize_sentence = nltk.tokenize.word_tokenize(sentence_w_num)\n",
        "    return tokenize_sentence\n",
        "X=[]\n",
        "for i in range(len(train_data)):\n",
        "  X.append(French_Preprocess_listofSentence(train_data.avis[i]))"
      ]
    },
    {
      "cell_type": "code",
      "execution_count": null,
      "metadata": {
        "id": "FwIMNKH54YQd"
      },
      "outputs": [],
      "source": [
        "for i in range(len(X)):  \n",
        "  seqs=[]\n",
        "  for word in X[i]:\n",
        "    if word in word2index:\n",
        "      seqs.append(word2index[word])\n",
        "    else:\n",
        "      seqs.append(word2index[\"UNK\"]) #The word in vocab ->UNK\n",
        "  X[i] = seqs"
      ]
    },
    {
      "cell_type": "code",
      "execution_count": null,
      "metadata": {
        "id": "BFkc7IbW8V3i"
      },
      "outputs": [],
      "source": [
        "import pickle\n",
        "from keras.layers.core import Activation, Dense, SpatialDropout1D\n",
        "from keras.layers.embeddings import Embedding\n",
        "from keras.layers.recurrent import LSTM\n",
        "from keras.models import Sequential\n",
        "from keras.preprocessing import sequence\n",
        "from sklearn.model_selection import train_test_split\n",
        "import numpy as np\n",
        "import pandas as pd"
      ]
    },
    {
      "cell_type": "code",
      "execution_count": null,
      "metadata": {
        "id": "LtRcoHdD8Kbf"
      },
      "outputs": [],
      "source": [
        "X = sequence.pad_sequences(X, maxlen=MAX_SENTENCE_LENGTH)"
      ]
    },
    {
      "cell_type": "code",
      "execution_count": null,
      "metadata": {
        "colab": {
          "base_uri": "https://localhost:8080/"
        },
        "id": "SwrWDEJVtvan",
        "outputId": "794c7021-7817-4662-a2ef-223b52a21346"
      },
      "outputs": [],
      "source": [
        "y=list(target.values)\n",
        "for i in range(len(y)):\n",
        "  y[i]=float(y[i])\n",
        "\n",
        "y=np.asarray(y)\n",
        "Xtrain, Xtest, ytrain, ytest = train_test_split(X, y, test_size=0.2, random_state=42)\n",
        "Xtrain.shape"
      ]
    },
    {
      "cell_type": "code",
      "execution_count": null,
      "metadata": {
        "colab": {
          "base_uri": "https://localhost:8080/"
        },
        "id": "65s92WKc7-pu",
        "outputId": "93fe5643-9575-4c18-e5a1-4385ea833dd6"
      },
      "outputs": [],
      "source": [
        "def rmse(predictions, targets):\n",
        "    return tf.sqrt(tf.reduce_mean((targets-predictions)**2))\n",
        "## construie le reseau\n",
        "EMBEDDING_SIZE = 50 \n",
        "HIDDEN_LAYER_SIZE = 128 \n",
        "BATCH_SIZE = 512 \n",
        "NUM_EPOCHS = 10 \n",
        "# creer une instance\n",
        "model_lstm = Sequential()\n",
        "\n",
        "model_lstm.add(Embedding(MAX_FEATURES, EMBEDDING_SIZE,input_length=MAX_SENTENCE_LENGTH))\n",
        "model_lstm.add(SpatialDropout1D(0.2))\n",
        "\n",
        "model_lstm.add(LSTM(HIDDEN_LAYER_SIZE, dropout=0.2, recurrent_dropout=0.2))\n",
        "model_lstm.add(tf.keras.layers.Dense(1, activation=None))\n",
        "model_lstm.summary()\n",
        "model_lstm.compile(loss=rmse, optimizer=\"adam\",metrics=[tf.keras.metrics.RootMeanSquaredError()])\n",
        "\n",
        "## train le modele\n",
        "model_lstm.fit(Xtrain, ytrain, batch_size=BATCH_SIZE, epochs=NUM_EPOCHS,validation_data=(Xtest, ytest))"
      ]
    },
    {
      "cell_type": "code",
      "execution_count": null,
      "metadata": {
        "id": "PBzWJFY9-mHl"
      },
      "outputs": [],
      "source": [
        "def rmse(predictions, targets):\n",
        "    return np.sqrt(((predictions - targets) ** 2).mean())\n",
        "y_predict=model_lstm.predict(Xtest)"
      ]
    },
    {
      "cell_type": "code",
      "execution_count": null,
      "metadata": {
        "colab": {
          "base_uri": "https://localhost:8080/"
        },
        "id": "BJwbrLR90DUJ",
        "outputId": "4c1cb5ce-e71e-4673-d6e5-ffb95305490c"
      },
      "outputs": [],
      "source": [
        "y_predict"
      ]
    },
    {
      "cell_type": "code",
      "execution_count": null,
      "metadata": {
        "colab": {
          "base_uri": "https://localhost:8080/"
        },
        "id": "GUvREiSR0HSc",
        "outputId": "8a20f0cf-e429-4821-d7e3-bba1852e1272"
      },
      "outputs": [],
      "source": [
        "ytest"
      ]
    },
    {
      "cell_type": "code",
      "execution_count": null,
      "metadata": {
        "colab": {
          "base_uri": "https://localhost:8080/"
        },
        "id": "LO7mIoDX0Ca7",
        "outputId": "a551c399-9415-46b3-d731-950d89475577"
      },
      "outputs": [],
      "source": [
        "rmse(y_predict, ytest)"
      ]
    },
    {
      "cell_type": "code",
      "execution_count": null,
      "metadata": {
        "id": "fg8AFClOQYFf"
      },
      "outputs": [],
      "source": [
        "Test_final_x=list(test.avis.values)\n",
        "Final_X=[]\n",
        "for i in range(len(Test_final_x)):\n",
        "  Final_X.append(French_Preprocess_listofSentence(Test_final_x[i]))\n",
        "\n",
        "for i in range(len(Final_X)):  \n",
        "  seqs=[]\n",
        "  for word in Final_X[i]:\n",
        "    if word in word2index:\n",
        "      seqs.append(word2index[word])\n",
        "    else:\n",
        "      seqs.append(word2index[\"UNK\"]) \n",
        "  Final_X[i] = seqs\n",
        "\n",
        "Final_X = sequence.pad_sequences(Final_X, maxlen=MAX_SENTENCE_LENGTH)"
      ]
    },
    {
      "cell_type": "code",
      "execution_count": null,
      "metadata": {
        "id": "-d22P2OpKhNn"
      },
      "outputs": [],
      "source": [
        "Final_result=model_lstm.predict(Final_X)\n",
        "Final_result_LSTM=test.copy()\n",
        "Final_result_LSTM['avis']=Final_result\n",
        "Final_result_LSTM.to_pickle(\"Final_result_LSTM.pkl\")"
      ]
    },
    {
      "cell_type": "markdown",
      "metadata": {
        "id": "z7ZDUa0JIKLk"
      },
      "source": [
        "## Bert"
      ]
    },
    {
      "cell_type": "code",
      "execution_count": null,
      "metadata": {
        "id": "9uKVpwNaC0dX"
      },
      "outputs": [],
      "source": [
        "!pip install Sentencepiece\n",
        "!pip install transformers\n",
        "from transformers import CamembertTokenizer\n"
      ]
    },
    {
      "cell_type": "code",
      "execution_count": null,
      "metadata": {
        "colab": {
          "base_uri": "https://localhost:8080/",
          "height": 113,
          "referenced_widgets": [
            "5e159ae690c149b6ae22f46bc2e2a3d1",
            "2eaefe4792164d06b764a09fe6c1bb0a",
            "6e033d2a6e6f4feeb099d2aa5596be09",
            "7b41322c31c042a4ae4b18b007f8f385",
            "74bc106ac8824a13b51dc94a3bc03bb9",
            "c7e4f5957ba0442582d5ada8a2399263",
            "cad8ee1ceeeb48c4bfdeb82ff2638ef3",
            "782832af64b946b882b65a782b12a196",
            "e762834c45b14207807decea0f0222f0",
            "e616c1a3271f41a096a3081cda60ed3e",
            "5cdeef7eb0ea461f8af4de351017941b",
            "3d0cdd6c0d464d2a8d57c0d8ae27b84c",
            "9697bdf62684488995c1bcd3196c0455",
            "c9e8fbd11ee44eb7b80ef66daecdcc31",
            "866938558c1b4bf383c3274f060e4c8a",
            "47648c1581f04f08989b5b3e5f57eb94",
            "942882eff85c4925805242a6057064d9",
            "77ce450a42204c7abd4c3766f38c31c1",
            "18d791dbfc32425ba9e0fe0977c9d58d",
            "f8e918078e67407ca737e062f476487c",
            "38d2ecdfeb3d40db9e2b47003e78d121",
            "631908cbd38e4a0cb64cb321a32f58a4",
            "7d3867e44c844092b76e5236a092d09a",
            "8acc10cfef964bd78e47fc97164dc75d",
            "989d26742d66458780d58b3ba55e87b6",
            "4c57ed20f8b5412ba17cfa5636d9b9d4",
            "21195ffef20c412ca45d7ff1182162e9",
            "c5dab02b631849f9a5351760d700ac09",
            "d40354c801c549f29ca098c7ceb58f71",
            "41dc2685d1614a36b5fe7f7934b206e3",
            "b57506f7e0764f33aa20ff8585611ea9",
            "b9062bcadf234def8aaa786f76c7913c",
            "2928ecce3b0a42e9a34086d52d461959"
          ]
        },
        "id": "dGqbpQ8lLJKj",
        "outputId": "9a6d2a33-6d3f-4de5-b8b5-9f374bfbad44"
      },
      "outputs": [],
      "source": [
        "from transformers import CamembertModel, CamembertTokenizer\n",
        "tokenizer = CamembertTokenizer.from_pretrained(\"camembert-base\")"
      ]
    },
    {
      "cell_type": "code",
      "execution_count": null,
      "metadata": {
        "colab": {
          "base_uri": "https://localhost:8080/"
        },
        "id": "owE1FFEOMa6G",
        "outputId": "fe61897e-1248-4afd-9257-5bdf613ee1c6"
      },
      "outputs": [],
      "source": [
        "type(tokenizer)"
      ]
    },
    {
      "cell_type": "code",
      "execution_count": null,
      "metadata": {
        "id": "XS6AxdNgOhGV"
      },
      "outputs": [],
      "source": [
        "valdata=trainbert.sample(10000,random_state=42)\n",
        "testdata=trainbert.sample(4000,random_state=42)"
      ]
    },
    {
      "cell_type": "code",
      "execution_count": null,
      "metadata": {
        "id": "fFKfM9wxOr8L"
      },
      "outputs": [],
      "source": [
        "val_reviews=list(valdata.avis.values)\n",
        "test_reviews=list(testdata.avis.values)"
      ]
    },
    {
      "cell_type": "code",
      "execution_count": null,
      "metadata": {
        "id": "n0aYPsLlKT6d"
      },
      "outputs": [],
      "source": [
        "train_reviews=list(trainbert.avis.values)"
      ]
    },
    {
      "cell_type": "code",
      "execution_count": null,
      "metadata": {
        "colab": {
          "base_uri": "https://localhost:8080/",
          "height": 54
        },
        "id": "U0uZadDjJdxb",
        "outputId": "4f3304fc-219c-4875-cea9-7b2fb816a540"
      },
      "outputs": [],
      "source": [
        "some_review = train_reviews[0]\n",
        "some_review"
      ]
    },
    {
      "cell_type": "code",
      "execution_count": null,
      "metadata": {
        "colab": {
          "base_uri": "https://localhost:8080/"
        },
        "id": "f165recfJ-oR",
        "outputId": "f1a97759-e267-4aa5-ea27-4302ad1f98d4"
      },
      "outputs": [],
      "source": [
        "tokenizer.tokenize(some_review)[:15]"
      ]
    },
    {
      "cell_type": "code",
      "execution_count": null,
      "metadata": {
        "colab": {
          "base_uri": "https://localhost:8080/"
        },
        "id": "BPSDks3m94nu",
        "outputId": "0f0a8c60-4e18-4195-d185-fbdeb4db8efe"
      },
      "outputs": [],
      "source": [
        "tokenizer.encode(some_review)[:15]"
      ]
    },
    {
      "cell_type": "code",
      "execution_count": null,
      "metadata": {
        "colab": {
          "base_uri": "https://localhost:8080/",
          "height": 474
        },
        "id": "vdH8HEybGIlz",
        "outputId": "9eae3fbf-b068-498c-98fc-d4d8ceee655d"
      },
      "outputs": [],
      "source": [
        "import numpy as np\n",
        "reviews_len = [len(tokenizer.encode(review, max_length=512))\n",
        "                          for review in train_reviews]\n",
        "print(\"Average length: {:.1f}\".format(np.mean(reviews_len)))\n",
        "print(\"Max length: {}\".format(max(reviews_len)))\n",
        "\n",
        "plt.figure(figsize=(10,5))\n",
        "ax = sns.distplot(reviews_len, bins=150, kde=False, hist_kws=dict(alpha=0.8))\n",
        "ax.set(xlabel='Number of tokens')\n",
        "\n",
        "# Finalize the plot\n",
        "sns.despine(bottom=True)\n",
        "plt.tight_layout(h_pad=2)\n",
        "plt.show()"
      ]
    },
    {
      "cell_type": "code",
      "execution_count": null,
      "metadata": {
        "colab": {
          "base_uri": "https://localhost:8080/"
        },
        "id": "mzbIc5wrGQUL",
        "outputId": "4810d800-7028-445e-f578-c5f7b397802e"
      },
      "outputs": [],
      "source": [
        "tokenizer.vocab_size"
      ]
    },
    {
      "cell_type": "code",
      "execution_count": null,
      "metadata": {
        "colab": {
          "base_uri": "https://localhost:8080/"
        },
        "id": "2OW6IfLSGSKN",
        "outputId": "a3a574f9-6fec-4bf1-82f3-84ea24bf0cd2"
      },
      "outputs": [],
      "source": [
        "MAX_SEQ_LEN = 300 # in terms of generated tokens (not words)\n",
        "\n",
        "short_reviews = sum(np.array(reviews_len) <= MAX_SEQ_LEN)\n",
        "long_reviews = sum(np.array(reviews_len) > MAX_SEQ_LEN)\n",
        "\n",
        "print(\"{} reviews with LEN > {} ({:.2f} % of total data)\".format(\n",
        "    long_reviews,\n",
        "    MAX_SEQ_LEN,\n",
        "    100 * long_reviews / len(reviews_len)\n",
        "))"
      ]
    },
    {
      "cell_type": "code",
      "execution_count": null,
      "metadata": {
        "id": "rMGNBMkcGT1J"
      },
      "outputs": [],
      "source": [
        "def encode_reviews(tokenizer, reviews, max_length):\n",
        "    token_ids = np.zeros(shape=(len(reviews), max_length),\n",
        "                         dtype=np.int32)\n",
        "    for i, review in enumerate(reviews):\n",
        "        encoded = tokenizer.encode(review, max_length=max_length)\n",
        "        token_ids[i, 0:len(encoded)] = encoded\n",
        "    attention_mask = (token_ids != 0).astype(np.int32)\n",
        "    return {\"input_ids\": token_ids, \"attention_mask\": attention_mask}"
      ]
    },
    {
      "cell_type": "code",
      "execution_count": null,
      "metadata": {
        "id": "cHcOEdMvOSto"
      },
      "outputs": [],
      "source": [
        "encoded_train = encode_reviews(tokenizer, train_reviews, MAX_SEQ_LEN)\n",
        "encoded_valid = encode_reviews(tokenizer, val_reviews, MAX_SEQ_LEN)\n",
        "encoded_test = encode_reviews(tokenizer, test_reviews, MAX_SEQ_LEN)"
      ]
    },
    {
      "cell_type": "markdown",
      "metadata": {
        "id": "Tj9oLC-FNP5U"
      },
      "source": [
        "Multi class classification"
      ]
    },
    {
      "cell_type": "code",
      "execution_count": null,
      "metadata": {
        "id": "01jC1Ry3SIfq"
      },
      "outputs": [],
      "source": [
        "def to_cat(y):\n",
        "  for i in range(len(y)):\n",
        "    y[i]=int(y[i]-1)\n",
        "  from keras.utils.np_utils import to_categorical\n",
        "  y = to_categorical(y, num_classes=5)\n",
        "  return y"
      ]
    },
    {
      "cell_type": "code",
      "execution_count": null,
      "metadata": {
        "id": "54NtX_FTO2vd"
      },
      "outputs": [],
      "source": [
        "y_train = to_cat(np.array(trainbert.note.values))\n",
        "y_val = to_cat(np.array(valdata.note.values))\n",
        "y_test = to_cat(np.array(testdata.note.values))"
      ]
    },
    {
      "cell_type": "code",
      "execution_count": null,
      "metadata": {
        "colab": {
          "base_uri": "https://localhost:8080/",
          "height": 201,
          "referenced_widgets": [
            "7dd424a876fd4572aaf31e5862b591f6",
            "84cfb070e18e47898bd287f1d9b2a038",
            "99884e7c22384a8aa003ee8d2dadc610",
            "da70e175c0bc4edaa842c87a2f71d9e9",
            "71d92b3c58ca452cbda0e6a57f2f3d2e",
            "20078c57cbeb42c1b659a2961d73b19d",
            "f98e139303894845abe650a6d0cec0e1",
            "ac8943b73efa43108aa150a12e3f1650",
            "cfc3e377aed84de3ba47b2b0f52c2a62",
            "893231d4c26545afb8fef2dc9587578b",
            "73a9da9c49a74dcc8a7259862881aad1",
            "9456cab66ae14f8694f401db798040bc",
            "30a08dfa6f614e81b935955e5978b22b",
            "e3ada46c77c241d9b3bdb86d05dc34a9",
            "ab5a7d1b9fb449bfafdb014735d30257",
            "06cd4295fca24b52adc466a76eceb552",
            "c83db1b16605471784b0766839fe4c55",
            "9831417d2fe046869826c2ed7f65d862",
            "72d1af2f9db54552b586942700dbd0d7",
            "699da12fbf6e4d078ca1ac551f03175c",
            "3802074fc49148d8b643b65d5ef44eef",
            "11d5cc0a04c044c483d41d795f68b41d",
            "9c5227731bfa4c59921c1ed27a463cbb",
            "5efa578fa7344e9b86a7b09b9aa65025",
            "6a01b85a84834badb6f15a8ef9d4a0d5",
            "52eb3c1c9e5c43da986832c1305b4978",
            "ae0d015b2e454f4d8829fe73e3b955cb",
            "db7ed9b5d3c047f1aaf68add1956a896",
            "92ab85baa42b499e8df7527cb82c558e",
            "9542f0bfe11b4d05a1a1b5c41d1855ab",
            "74982fb0e6a14bc99ab861588c29a2af",
            "5dc7ab25735b4c42afbf41935b86cfe6",
            "2ece2b302d5f430889c57e74b1d797aa"
          ]
        },
        "id": "In68IqrtPOIG",
        "outputId": "42e5b428-b57f-4f28-ef8c-ee2cd0ed0182"
      },
      "outputs": [],
      "source": [
        "import tensorflow as tf\n",
        "from transformers import TFCamembertForSequenceClassification, CamembertTokenizer\n",
        "\n",
        "model = TFCamembertForSequenceClassification.from_pretrained(\"jplu/tf-camembert-base\", num_labels=5)\n",
        "tokenizer = CamembertTokenizer.from_pretrained(\"jplu/tf-camembert-base\")"
      ]
    },
    {
      "cell_type": "code",
      "execution_count": null,
      "metadata": {
        "colab": {
          "base_uri": "https://localhost:8080/"
        },
        "id": "n64Eum1hU-Jt",
        "outputId": "ef6b9c23-d055-4876-be96-bf519f005763"
      },
      "outputs": [],
      "source": [
        "model.layers"
      ]
    },
    {
      "cell_type": "code",
      "execution_count": null,
      "metadata": {
        "colab": {
          "base_uri": "https://localhost:8080/"
        },
        "id": "qrgePjScTIWr",
        "outputId": "7f2b9e48-2e71-471b-b7a2-fbade919b729"
      },
      "outputs": [],
      "source": [
        "opt = tf.keras.optimizers.Adam(learning_rate=0.001, epsilon=1e-07)\n",
        "loss_fn = tf.keras.losses.CategoricalCrossentropy(from_logits=True)    \n",
        "model.compile(optimizer=opt, loss=loss_fn, metrics=['accuracy',tf.keras.metrics.RootMeanSquaredError()])\n",
        "model.summary()"
      ]
    },
    {
      "cell_type": "code",
      "execution_count": null,
      "metadata": {
        "colab": {
          "base_uri": "https://localhost:8080/",
          "height": 392
        },
        "id": "OP0b_8qITiFt",
        "outputId": "ffcce1f2-d3db-4cb0-c56c-1a2254bc43c1"
      },
      "outputs": [],
      "source": [
        "history = model.fit(\n",
        "    encoded_train, y_train, epochs=3, batch_size=16, \n",
        "    validation_data=(encoded_valid, y_val), verbose=1\n",
        ")"
      ]
    },
    {
      "cell_type": "code",
      "execution_count": null,
      "metadata": {
        "id": "A3vCnb3uhCin"
      },
      "outputs": [],
      "source": [
        "test_result=list(testbert.avis.values)\n",
        "encoded_test_result=encode_reviews(tokenizer, test_result, MAX_SEQ_LEN)"
      ]
    },
    {
      "cell_type": "code",
      "execution_count": null,
      "metadata": {
        "id": "7N_3XqEduURs"
      },
      "outputs": [],
      "source": [
        "result_predict=model.predict(encoded_test_result)"
      ]
    },
    {
      "cell_type": "code",
      "execution_count": null,
      "metadata": {
        "id": "-Nppcev2Lc8J"
      },
      "outputs": [],
      "source": [
        "for i in range(len(result_predict)):\n",
        "  result_predict[i]=result_predict[i].index(max(result_predict[i]))+1\n",
        "\n",
        "Final_result_bert=test.copy()\n",
        "Final_result_bert['avis']=result_predict\n",
        "Final_result_bert.to_pickle(\"Final_result_bert.pkl\")\n",
        "\n"
      ]
    }
  ],
  "metadata": {
    "accelerator": "GPU",
    "colab": {
      "collapsed_sections": [
        "kbMQXoDe6_Ro"
      ],
      "machine_shape": "hm",
      "name": "Projet2.ipynb",
      "provenance": []
    },
    "kernelspec": {
      "display_name": "Python 3",
      "name": "python3"
    },
    "language_info": {
      "codemirror_mode": {
        "name": "ipython",
        "version": 3
      },
      "file_extension": ".py",
      "mimetype": "text/x-python",
      "name": "python",
      "nbconvert_exporter": "python",
      "pygments_lexer": "ipython3",
      "version": "3.11.1"
    },
    "widgets": {
      "application/vnd.jupyter.widget-state+json": {
        "06cd4295fca24b52adc466a76eceb552": {
          "model_module": "@jupyter-widgets/controls",
          "model_module_version": "1.5.0",
          "model_name": "HTMLModel",
          "state": {
            "_dom_classes": [],
            "_model_module": "@jupyter-widgets/controls",
            "_model_module_version": "1.5.0",
            "_model_name": "HTMLModel",
            "_view_count": null,
            "_view_module": "@jupyter-widgets/controls",
            "_view_module_version": "1.5.0",
            "_view_name": "HTMLView",
            "description": "",
            "description_tooltip": null,
            "layout": "IPY_MODEL_11d5cc0a04c044c483d41d795f68b41d",
            "placeholder": "​",
            "style": "IPY_MODEL_3802074fc49148d8b643b65d5ef44eef",
            "value": " 520M/520M [00:28&lt;00:00, 21.3MB/s]"
          }
        },
        "11d5cc0a04c044c483d41d795f68b41d": {
          "model_module": "@jupyter-widgets/base",
          "model_module_version": "1.2.0",
          "model_name": "LayoutModel",
          "state": {
            "_model_module": "@jupyter-widgets/base",
            "_model_module_version": "1.2.0",
            "_model_name": "LayoutModel",
            "_view_count": null,
            "_view_module": "@jupyter-widgets/base",
            "_view_module_version": "1.2.0",
            "_view_name": "LayoutView",
            "align_content": null,
            "align_items": null,
            "align_self": null,
            "border": null,
            "bottom": null,
            "display": null,
            "flex": null,
            "flex_flow": null,
            "grid_area": null,
            "grid_auto_columns": null,
            "grid_auto_flow": null,
            "grid_auto_rows": null,
            "grid_column": null,
            "grid_gap": null,
            "grid_row": null,
            "grid_template_areas": null,
            "grid_template_columns": null,
            "grid_template_rows": null,
            "height": null,
            "justify_content": null,
            "justify_items": null,
            "left": null,
            "margin": null,
            "max_height": null,
            "max_width": null,
            "min_height": null,
            "min_width": null,
            "object_fit": null,
            "object_position": null,
            "order": null,
            "overflow": null,
            "overflow_x": null,
            "overflow_y": null,
            "padding": null,
            "right": null,
            "top": null,
            "visibility": null,
            "width": null
          }
        },
        "18d791dbfc32425ba9e0fe0977c9d58d": {
          "model_module": "@jupyter-widgets/controls",
          "model_module_version": "1.5.0",
          "model_name": "ProgressStyleModel",
          "state": {
            "_model_module": "@jupyter-widgets/controls",
            "_model_module_version": "1.5.0",
            "_model_name": "ProgressStyleModel",
            "_view_count": null,
            "_view_module": "@jupyter-widgets/base",
            "_view_module_version": "1.2.0",
            "_view_name": "StyleView",
            "bar_color": null,
            "description_width": ""
          }
        },
        "20078c57cbeb42c1b659a2961d73b19d": {
          "model_module": "@jupyter-widgets/controls",
          "model_module_version": "1.5.0",
          "model_name": "DescriptionStyleModel",
          "state": {
            "_model_module": "@jupyter-widgets/controls",
            "_model_module_version": "1.5.0",
            "_model_name": "DescriptionStyleModel",
            "_view_count": null,
            "_view_module": "@jupyter-widgets/base",
            "_view_module_version": "1.2.0",
            "_view_name": "StyleView",
            "description_width": ""
          }
        },
        "21195ffef20c412ca45d7ff1182162e9": {
          "model_module": "@jupyter-widgets/controls",
          "model_module_version": "1.5.0",
          "model_name": "HTMLModel",
          "state": {
            "_dom_classes": [],
            "_model_module": "@jupyter-widgets/controls",
            "_model_module_version": "1.5.0",
            "_model_name": "HTMLModel",
            "_view_count": null,
            "_view_module": "@jupyter-widgets/controls",
            "_view_module_version": "1.5.0",
            "_view_name": "HTMLView",
            "description": "",
            "description_tooltip": null,
            "layout": "IPY_MODEL_2928ecce3b0a42e9a34086d52d461959",
            "placeholder": "​",
            "style": "IPY_MODEL_b9062bcadf234def8aaa786f76c7913c",
            "value": " 508/508 [00:00&lt;00:00, 20.1kB/s]"
          }
        },
        "2928ecce3b0a42e9a34086d52d461959": {
          "model_module": "@jupyter-widgets/base",
          "model_module_version": "1.2.0",
          "model_name": "LayoutModel",
          "state": {
            "_model_module": "@jupyter-widgets/base",
            "_model_module_version": "1.2.0",
            "_model_name": "LayoutModel",
            "_view_count": null,
            "_view_module": "@jupyter-widgets/base",
            "_view_module_version": "1.2.0",
            "_view_name": "LayoutView",
            "align_content": null,
            "align_items": null,
            "align_self": null,
            "border": null,
            "bottom": null,
            "display": null,
            "flex": null,
            "flex_flow": null,
            "grid_area": null,
            "grid_auto_columns": null,
            "grid_auto_flow": null,
            "grid_auto_rows": null,
            "grid_column": null,
            "grid_gap": null,
            "grid_row": null,
            "grid_template_areas": null,
            "grid_template_columns": null,
            "grid_template_rows": null,
            "height": null,
            "justify_content": null,
            "justify_items": null,
            "left": null,
            "margin": null,
            "max_height": null,
            "max_width": null,
            "min_height": null,
            "min_width": null,
            "object_fit": null,
            "object_position": null,
            "order": null,
            "overflow": null,
            "overflow_x": null,
            "overflow_y": null,
            "padding": null,
            "right": null,
            "top": null,
            "visibility": null,
            "width": null
          }
        },
        "2eaefe4792164d06b764a09fe6c1bb0a": {
          "model_module": "@jupyter-widgets/base",
          "model_module_version": "1.2.0",
          "model_name": "LayoutModel",
          "state": {
            "_model_module": "@jupyter-widgets/base",
            "_model_module_version": "1.2.0",
            "_model_name": "LayoutModel",
            "_view_count": null,
            "_view_module": "@jupyter-widgets/base",
            "_view_module_version": "1.2.0",
            "_view_name": "LayoutView",
            "align_content": null,
            "align_items": null,
            "align_self": null,
            "border": null,
            "bottom": null,
            "display": null,
            "flex": null,
            "flex_flow": null,
            "grid_area": null,
            "grid_auto_columns": null,
            "grid_auto_flow": null,
            "grid_auto_rows": null,
            "grid_column": null,
            "grid_gap": null,
            "grid_row": null,
            "grid_template_areas": null,
            "grid_template_columns": null,
            "grid_template_rows": null,
            "height": null,
            "justify_content": null,
            "justify_items": null,
            "left": null,
            "margin": null,
            "max_height": null,
            "max_width": null,
            "min_height": null,
            "min_width": null,
            "object_fit": null,
            "object_position": null,
            "order": null,
            "overflow": null,
            "overflow_x": null,
            "overflow_y": null,
            "padding": null,
            "right": null,
            "top": null,
            "visibility": null,
            "width": null
          }
        },
        "2ece2b302d5f430889c57e74b1d797aa": {
          "model_module": "@jupyter-widgets/base",
          "model_module_version": "1.2.0",
          "model_name": "LayoutModel",
          "state": {
            "_model_module": "@jupyter-widgets/base",
            "_model_module_version": "1.2.0",
            "_model_name": "LayoutModel",
            "_view_count": null,
            "_view_module": "@jupyter-widgets/base",
            "_view_module_version": "1.2.0",
            "_view_name": "LayoutView",
            "align_content": null,
            "align_items": null,
            "align_self": null,
            "border": null,
            "bottom": null,
            "display": null,
            "flex": null,
            "flex_flow": null,
            "grid_area": null,
            "grid_auto_columns": null,
            "grid_auto_flow": null,
            "grid_auto_rows": null,
            "grid_column": null,
            "grid_gap": null,
            "grid_row": null,
            "grid_template_areas": null,
            "grid_template_columns": null,
            "grid_template_rows": null,
            "height": null,
            "justify_content": null,
            "justify_items": null,
            "left": null,
            "margin": null,
            "max_height": null,
            "max_width": null,
            "min_height": null,
            "min_width": null,
            "object_fit": null,
            "object_position": null,
            "order": null,
            "overflow": null,
            "overflow_x": null,
            "overflow_y": null,
            "padding": null,
            "right": null,
            "top": null,
            "visibility": null,
            "width": null
          }
        },
        "30a08dfa6f614e81b935955e5978b22b": {
          "model_module": "@jupyter-widgets/base",
          "model_module_version": "1.2.0",
          "model_name": "LayoutModel",
          "state": {
            "_model_module": "@jupyter-widgets/base",
            "_model_module_version": "1.2.0",
            "_model_name": "LayoutModel",
            "_view_count": null,
            "_view_module": "@jupyter-widgets/base",
            "_view_module_version": "1.2.0",
            "_view_name": "LayoutView",
            "align_content": null,
            "align_items": null,
            "align_self": null,
            "border": null,
            "bottom": null,
            "display": null,
            "flex": null,
            "flex_flow": null,
            "grid_area": null,
            "grid_auto_columns": null,
            "grid_auto_flow": null,
            "grid_auto_rows": null,
            "grid_column": null,
            "grid_gap": null,
            "grid_row": null,
            "grid_template_areas": null,
            "grid_template_columns": null,
            "grid_template_rows": null,
            "height": null,
            "justify_content": null,
            "justify_items": null,
            "left": null,
            "margin": null,
            "max_height": null,
            "max_width": null,
            "min_height": null,
            "min_width": null,
            "object_fit": null,
            "object_position": null,
            "order": null,
            "overflow": null,
            "overflow_x": null,
            "overflow_y": null,
            "padding": null,
            "right": null,
            "top": null,
            "visibility": null,
            "width": null
          }
        },
        "3802074fc49148d8b643b65d5ef44eef": {
          "model_module": "@jupyter-widgets/controls",
          "model_module_version": "1.5.0",
          "model_name": "DescriptionStyleModel",
          "state": {
            "_model_module": "@jupyter-widgets/controls",
            "_model_module_version": "1.5.0",
            "_model_name": "DescriptionStyleModel",
            "_view_count": null,
            "_view_module": "@jupyter-widgets/base",
            "_view_module_version": "1.2.0",
            "_view_name": "StyleView",
            "description_width": ""
          }
        },
        "38d2ecdfeb3d40db9e2b47003e78d121": {
          "model_module": "@jupyter-widgets/controls",
          "model_module_version": "1.5.0",
          "model_name": "DescriptionStyleModel",
          "state": {
            "_model_module": "@jupyter-widgets/controls",
            "_model_module_version": "1.5.0",
            "_model_name": "DescriptionStyleModel",
            "_view_count": null,
            "_view_module": "@jupyter-widgets/base",
            "_view_module_version": "1.2.0",
            "_view_name": "StyleView",
            "description_width": ""
          }
        },
        "3d0cdd6c0d464d2a8d57c0d8ae27b84c": {
          "model_module": "@jupyter-widgets/controls",
          "model_module_version": "1.5.0",
          "model_name": "HBoxModel",
          "state": {
            "_dom_classes": [],
            "_model_module": "@jupyter-widgets/controls",
            "_model_module_version": "1.5.0",
            "_model_name": "HBoxModel",
            "_view_count": null,
            "_view_module": "@jupyter-widgets/controls",
            "_view_module_version": "1.5.0",
            "_view_name": "HBoxView",
            "box_style": "",
            "children": [
              "IPY_MODEL_c9e8fbd11ee44eb7b80ef66daecdcc31",
              "IPY_MODEL_866938558c1b4bf383c3274f060e4c8a",
              "IPY_MODEL_47648c1581f04f08989b5b3e5f57eb94"
            ],
            "layout": "IPY_MODEL_9697bdf62684488995c1bcd3196c0455"
          }
        },
        "41dc2685d1614a36b5fe7f7934b206e3": {
          "model_module": "@jupyter-widgets/controls",
          "model_module_version": "1.5.0",
          "model_name": "ProgressStyleModel",
          "state": {
            "_model_module": "@jupyter-widgets/controls",
            "_model_module_version": "1.5.0",
            "_model_name": "ProgressStyleModel",
            "_view_count": null,
            "_view_module": "@jupyter-widgets/base",
            "_view_module_version": "1.2.0",
            "_view_name": "StyleView",
            "bar_color": null,
            "description_width": ""
          }
        },
        "47648c1581f04f08989b5b3e5f57eb94": {
          "model_module": "@jupyter-widgets/controls",
          "model_module_version": "1.5.0",
          "model_name": "HTMLModel",
          "state": {
            "_dom_classes": [],
            "_model_module": "@jupyter-widgets/controls",
            "_model_module_version": "1.5.0",
            "_model_name": "HTMLModel",
            "_view_count": null,
            "_view_module": "@jupyter-widgets/controls",
            "_view_module_version": "1.5.0",
            "_view_name": "HTMLView",
            "description": "",
            "description_tooltip": null,
            "layout": "IPY_MODEL_631908cbd38e4a0cb64cb321a32f58a4",
            "placeholder": "​",
            "style": "IPY_MODEL_38d2ecdfeb3d40db9e2b47003e78d121",
            "value": " 1.33M/1.33M [00:01&lt;00:00, 1.14MB/s]"
          }
        },
        "4c57ed20f8b5412ba17cfa5636d9b9d4": {
          "model_module": "@jupyter-widgets/controls",
          "model_module_version": "1.5.0",
          "model_name": "FloatProgressModel",
          "state": {
            "_dom_classes": [],
            "_model_module": "@jupyter-widgets/controls",
            "_model_module_version": "1.5.0",
            "_model_name": "FloatProgressModel",
            "_view_count": null,
            "_view_module": "@jupyter-widgets/controls",
            "_view_module_version": "1.5.0",
            "_view_name": "ProgressView",
            "bar_style": "success",
            "description": "",
            "description_tooltip": null,
            "layout": "IPY_MODEL_b57506f7e0764f33aa20ff8585611ea9",
            "max": 508,
            "min": 0,
            "orientation": "horizontal",
            "style": "IPY_MODEL_41dc2685d1614a36b5fe7f7934b206e3",
            "value": 508
          }
        },
        "52eb3c1c9e5c43da986832c1305b4978": {
          "model_module": "@jupyter-widgets/controls",
          "model_module_version": "1.5.0",
          "model_name": "FloatProgressModel",
          "state": {
            "_dom_classes": [],
            "_model_module": "@jupyter-widgets/controls",
            "_model_module_version": "1.5.0",
            "_model_name": "FloatProgressModel",
            "_view_count": null,
            "_view_module": "@jupyter-widgets/controls",
            "_view_module_version": "1.5.0",
            "_view_name": "ProgressView",
            "bar_style": "success",
            "description": "",
            "description_tooltip": null,
            "layout": "IPY_MODEL_74982fb0e6a14bc99ab861588c29a2af",
            "max": 810912,
            "min": 0,
            "orientation": "horizontal",
            "style": "IPY_MODEL_9542f0bfe11b4d05a1a1b5c41d1855ab",
            "value": 810912
          }
        },
        "5cdeef7eb0ea461f8af4de351017941b": {
          "model_module": "@jupyter-widgets/base",
          "model_module_version": "1.2.0",
          "model_name": "LayoutModel",
          "state": {
            "_model_module": "@jupyter-widgets/base",
            "_model_module_version": "1.2.0",
            "_model_name": "LayoutModel",
            "_view_count": null,
            "_view_module": "@jupyter-widgets/base",
            "_view_module_version": "1.2.0",
            "_view_name": "LayoutView",
            "align_content": null,
            "align_items": null,
            "align_self": null,
            "border": null,
            "bottom": null,
            "display": null,
            "flex": null,
            "flex_flow": null,
            "grid_area": null,
            "grid_auto_columns": null,
            "grid_auto_flow": null,
            "grid_auto_rows": null,
            "grid_column": null,
            "grid_gap": null,
            "grid_row": null,
            "grid_template_areas": null,
            "grid_template_columns": null,
            "grid_template_rows": null,
            "height": null,
            "justify_content": null,
            "justify_items": null,
            "left": null,
            "margin": null,
            "max_height": null,
            "max_width": null,
            "min_height": null,
            "min_width": null,
            "object_fit": null,
            "object_position": null,
            "order": null,
            "overflow": null,
            "overflow_x": null,
            "overflow_y": null,
            "padding": null,
            "right": null,
            "top": null,
            "visibility": null,
            "width": null
          }
        },
        "5dc7ab25735b4c42afbf41935b86cfe6": {
          "model_module": "@jupyter-widgets/controls",
          "model_module_version": "1.5.0",
          "model_name": "DescriptionStyleModel",
          "state": {
            "_model_module": "@jupyter-widgets/controls",
            "_model_module_version": "1.5.0",
            "_model_name": "DescriptionStyleModel",
            "_view_count": null,
            "_view_module": "@jupyter-widgets/base",
            "_view_module_version": "1.2.0",
            "_view_name": "StyleView",
            "description_width": ""
          }
        },
        "5e159ae690c149b6ae22f46bc2e2a3d1": {
          "model_module": "@jupyter-widgets/controls",
          "model_module_version": "1.5.0",
          "model_name": "HBoxModel",
          "state": {
            "_dom_classes": [],
            "_model_module": "@jupyter-widgets/controls",
            "_model_module_version": "1.5.0",
            "_model_name": "HBoxModel",
            "_view_count": null,
            "_view_module": "@jupyter-widgets/controls",
            "_view_module_version": "1.5.0",
            "_view_name": "HBoxView",
            "box_style": "",
            "children": [
              "IPY_MODEL_6e033d2a6e6f4feeb099d2aa5596be09",
              "IPY_MODEL_7b41322c31c042a4ae4b18b007f8f385",
              "IPY_MODEL_74bc106ac8824a13b51dc94a3bc03bb9"
            ],
            "layout": "IPY_MODEL_2eaefe4792164d06b764a09fe6c1bb0a"
          }
        },
        "5efa578fa7344e9b86a7b09b9aa65025": {
          "model_module": "@jupyter-widgets/base",
          "model_module_version": "1.2.0",
          "model_name": "LayoutModel",
          "state": {
            "_model_module": "@jupyter-widgets/base",
            "_model_module_version": "1.2.0",
            "_model_name": "LayoutModel",
            "_view_count": null,
            "_view_module": "@jupyter-widgets/base",
            "_view_module_version": "1.2.0",
            "_view_name": "LayoutView",
            "align_content": null,
            "align_items": null,
            "align_self": null,
            "border": null,
            "bottom": null,
            "display": null,
            "flex": null,
            "flex_flow": null,
            "grid_area": null,
            "grid_auto_columns": null,
            "grid_auto_flow": null,
            "grid_auto_rows": null,
            "grid_column": null,
            "grid_gap": null,
            "grid_row": null,
            "grid_template_areas": null,
            "grid_template_columns": null,
            "grid_template_rows": null,
            "height": null,
            "justify_content": null,
            "justify_items": null,
            "left": null,
            "margin": null,
            "max_height": null,
            "max_width": null,
            "min_height": null,
            "min_width": null,
            "object_fit": null,
            "object_position": null,
            "order": null,
            "overflow": null,
            "overflow_x": null,
            "overflow_y": null,
            "padding": null,
            "right": null,
            "top": null,
            "visibility": null,
            "width": null
          }
        },
        "631908cbd38e4a0cb64cb321a32f58a4": {
          "model_module": "@jupyter-widgets/base",
          "model_module_version": "1.2.0",
          "model_name": "LayoutModel",
          "state": {
            "_model_module": "@jupyter-widgets/base",
            "_model_module_version": "1.2.0",
            "_model_name": "LayoutModel",
            "_view_count": null,
            "_view_module": "@jupyter-widgets/base",
            "_view_module_version": "1.2.0",
            "_view_name": "LayoutView",
            "align_content": null,
            "align_items": null,
            "align_self": null,
            "border": null,
            "bottom": null,
            "display": null,
            "flex": null,
            "flex_flow": null,
            "grid_area": null,
            "grid_auto_columns": null,
            "grid_auto_flow": null,
            "grid_auto_rows": null,
            "grid_column": null,
            "grid_gap": null,
            "grid_row": null,
            "grid_template_areas": null,
            "grid_template_columns": null,
            "grid_template_rows": null,
            "height": null,
            "justify_content": null,
            "justify_items": null,
            "left": null,
            "margin": null,
            "max_height": null,
            "max_width": null,
            "min_height": null,
            "min_width": null,
            "object_fit": null,
            "object_position": null,
            "order": null,
            "overflow": null,
            "overflow_x": null,
            "overflow_y": null,
            "padding": null,
            "right": null,
            "top": null,
            "visibility": null,
            "width": null
          }
        },
        "699da12fbf6e4d078ca1ac551f03175c": {
          "model_module": "@jupyter-widgets/base",
          "model_module_version": "1.2.0",
          "model_name": "LayoutModel",
          "state": {
            "_model_module": "@jupyter-widgets/base",
            "_model_module_version": "1.2.0",
            "_model_name": "LayoutModel",
            "_view_count": null,
            "_view_module": "@jupyter-widgets/base",
            "_view_module_version": "1.2.0",
            "_view_name": "LayoutView",
            "align_content": null,
            "align_items": null,
            "align_self": null,
            "border": null,
            "bottom": null,
            "display": null,
            "flex": null,
            "flex_flow": null,
            "grid_area": null,
            "grid_auto_columns": null,
            "grid_auto_flow": null,
            "grid_auto_rows": null,
            "grid_column": null,
            "grid_gap": null,
            "grid_row": null,
            "grid_template_areas": null,
            "grid_template_columns": null,
            "grid_template_rows": null,
            "height": null,
            "justify_content": null,
            "justify_items": null,
            "left": null,
            "margin": null,
            "max_height": null,
            "max_width": null,
            "min_height": null,
            "min_width": null,
            "object_fit": null,
            "object_position": null,
            "order": null,
            "overflow": null,
            "overflow_x": null,
            "overflow_y": null,
            "padding": null,
            "right": null,
            "top": null,
            "visibility": null,
            "width": null
          }
        },
        "6a01b85a84834badb6f15a8ef9d4a0d5": {
          "model_module": "@jupyter-widgets/controls",
          "model_module_version": "1.5.0",
          "model_name": "HTMLModel",
          "state": {
            "_dom_classes": [],
            "_model_module": "@jupyter-widgets/controls",
            "_model_module_version": "1.5.0",
            "_model_name": "HTMLModel",
            "_view_count": null,
            "_view_module": "@jupyter-widgets/controls",
            "_view_module_version": "1.5.0",
            "_view_name": "HTMLView",
            "description": "",
            "description_tooltip": null,
            "layout": "IPY_MODEL_92ab85baa42b499e8df7527cb82c558e",
            "placeholder": "​",
            "style": "IPY_MODEL_db7ed9b5d3c047f1aaf68add1956a896",
            "value": "Downloading: 100%"
          }
        },
        "6e033d2a6e6f4feeb099d2aa5596be09": {
          "model_module": "@jupyter-widgets/controls",
          "model_module_version": "1.5.0",
          "model_name": "HTMLModel",
          "state": {
            "_dom_classes": [],
            "_model_module": "@jupyter-widgets/controls",
            "_model_module_version": "1.5.0",
            "_model_name": "HTMLModel",
            "_view_count": null,
            "_view_module": "@jupyter-widgets/controls",
            "_view_module_version": "1.5.0",
            "_view_name": "HTMLView",
            "description": "",
            "description_tooltip": null,
            "layout": "IPY_MODEL_cad8ee1ceeeb48c4bfdeb82ff2638ef3",
            "placeholder": "​",
            "style": "IPY_MODEL_c7e4f5957ba0442582d5ada8a2399263",
            "value": "Downloading: 100%"
          }
        },
        "71d92b3c58ca452cbda0e6a57f2f3d2e": {
          "model_module": "@jupyter-widgets/controls",
          "model_module_version": "1.5.0",
          "model_name": "HTMLModel",
          "state": {
            "_dom_classes": [],
            "_model_module": "@jupyter-widgets/controls",
            "_model_module_version": "1.5.0",
            "_model_name": "HTMLModel",
            "_view_count": null,
            "_view_module": "@jupyter-widgets/controls",
            "_view_module_version": "1.5.0",
            "_view_name": "HTMLView",
            "description": "",
            "description_tooltip": null,
            "layout": "IPY_MODEL_73a9da9c49a74dcc8a7259862881aad1",
            "placeholder": "​",
            "style": "IPY_MODEL_893231d4c26545afb8fef2dc9587578b",
            "value": " 508/508 [00:00&lt;00:00, 20.2kB/s]"
          }
        },
        "72d1af2f9db54552b586942700dbd0d7": {
          "model_module": "@jupyter-widgets/controls",
          "model_module_version": "1.5.0",
          "model_name": "ProgressStyleModel",
          "state": {
            "_model_module": "@jupyter-widgets/controls",
            "_model_module_version": "1.5.0",
            "_model_name": "ProgressStyleModel",
            "_view_count": null,
            "_view_module": "@jupyter-widgets/base",
            "_view_module_version": "1.2.0",
            "_view_name": "StyleView",
            "bar_color": null,
            "description_width": ""
          }
        },
        "73a9da9c49a74dcc8a7259862881aad1": {
          "model_module": "@jupyter-widgets/base",
          "model_module_version": "1.2.0",
          "model_name": "LayoutModel",
          "state": {
            "_model_module": "@jupyter-widgets/base",
            "_model_module_version": "1.2.0",
            "_model_name": "LayoutModel",
            "_view_count": null,
            "_view_module": "@jupyter-widgets/base",
            "_view_module_version": "1.2.0",
            "_view_name": "LayoutView",
            "align_content": null,
            "align_items": null,
            "align_self": null,
            "border": null,
            "bottom": null,
            "display": null,
            "flex": null,
            "flex_flow": null,
            "grid_area": null,
            "grid_auto_columns": null,
            "grid_auto_flow": null,
            "grid_auto_rows": null,
            "grid_column": null,
            "grid_gap": null,
            "grid_row": null,
            "grid_template_areas": null,
            "grid_template_columns": null,
            "grid_template_rows": null,
            "height": null,
            "justify_content": null,
            "justify_items": null,
            "left": null,
            "margin": null,
            "max_height": null,
            "max_width": null,
            "min_height": null,
            "min_width": null,
            "object_fit": null,
            "object_position": null,
            "order": null,
            "overflow": null,
            "overflow_x": null,
            "overflow_y": null,
            "padding": null,
            "right": null,
            "top": null,
            "visibility": null,
            "width": null
          }
        },
        "74982fb0e6a14bc99ab861588c29a2af": {
          "model_module": "@jupyter-widgets/base",
          "model_module_version": "1.2.0",
          "model_name": "LayoutModel",
          "state": {
            "_model_module": "@jupyter-widgets/base",
            "_model_module_version": "1.2.0",
            "_model_name": "LayoutModel",
            "_view_count": null,
            "_view_module": "@jupyter-widgets/base",
            "_view_module_version": "1.2.0",
            "_view_name": "LayoutView",
            "align_content": null,
            "align_items": null,
            "align_self": null,
            "border": null,
            "bottom": null,
            "display": null,
            "flex": null,
            "flex_flow": null,
            "grid_area": null,
            "grid_auto_columns": null,
            "grid_auto_flow": null,
            "grid_auto_rows": null,
            "grid_column": null,
            "grid_gap": null,
            "grid_row": null,
            "grid_template_areas": null,
            "grid_template_columns": null,
            "grid_template_rows": null,
            "height": null,
            "justify_content": null,
            "justify_items": null,
            "left": null,
            "margin": null,
            "max_height": null,
            "max_width": null,
            "min_height": null,
            "min_width": null,
            "object_fit": null,
            "object_position": null,
            "order": null,
            "overflow": null,
            "overflow_x": null,
            "overflow_y": null,
            "padding": null,
            "right": null,
            "top": null,
            "visibility": null,
            "width": null
          }
        },
        "74bc106ac8824a13b51dc94a3bc03bb9": {
          "model_module": "@jupyter-widgets/controls",
          "model_module_version": "1.5.0",
          "model_name": "HTMLModel",
          "state": {
            "_dom_classes": [],
            "_model_module": "@jupyter-widgets/controls",
            "_model_module_version": "1.5.0",
            "_model_name": "HTMLModel",
            "_view_count": null,
            "_view_module": "@jupyter-widgets/controls",
            "_view_module_version": "1.5.0",
            "_view_name": "HTMLView",
            "description": "",
            "description_tooltip": null,
            "layout": "IPY_MODEL_5cdeef7eb0ea461f8af4de351017941b",
            "placeholder": "​",
            "style": "IPY_MODEL_e616c1a3271f41a096a3081cda60ed3e",
            "value": " 792k/792k [00:00&lt;00:00, 634kB/s]"
          }
        },
        "77ce450a42204c7abd4c3766f38c31c1": {
          "model_module": "@jupyter-widgets/base",
          "model_module_version": "1.2.0",
          "model_name": "LayoutModel",
          "state": {
            "_model_module": "@jupyter-widgets/base",
            "_model_module_version": "1.2.0",
            "_model_name": "LayoutModel",
            "_view_count": null,
            "_view_module": "@jupyter-widgets/base",
            "_view_module_version": "1.2.0",
            "_view_name": "LayoutView",
            "align_content": null,
            "align_items": null,
            "align_self": null,
            "border": null,
            "bottom": null,
            "display": null,
            "flex": null,
            "flex_flow": null,
            "grid_area": null,
            "grid_auto_columns": null,
            "grid_auto_flow": null,
            "grid_auto_rows": null,
            "grid_column": null,
            "grid_gap": null,
            "grid_row": null,
            "grid_template_areas": null,
            "grid_template_columns": null,
            "grid_template_rows": null,
            "height": null,
            "justify_content": null,
            "justify_items": null,
            "left": null,
            "margin": null,
            "max_height": null,
            "max_width": null,
            "min_height": null,
            "min_width": null,
            "object_fit": null,
            "object_position": null,
            "order": null,
            "overflow": null,
            "overflow_x": null,
            "overflow_y": null,
            "padding": null,
            "right": null,
            "top": null,
            "visibility": null,
            "width": null
          }
        },
        "782832af64b946b882b65a782b12a196": {
          "model_module": "@jupyter-widgets/controls",
          "model_module_version": "1.5.0",
          "model_name": "ProgressStyleModel",
          "state": {
            "_model_module": "@jupyter-widgets/controls",
            "_model_module_version": "1.5.0",
            "_model_name": "ProgressStyleModel",
            "_view_count": null,
            "_view_module": "@jupyter-widgets/base",
            "_view_module_version": "1.2.0",
            "_view_name": "StyleView",
            "bar_color": null,
            "description_width": ""
          }
        },
        "7b41322c31c042a4ae4b18b007f8f385": {
          "model_module": "@jupyter-widgets/controls",
          "model_module_version": "1.5.0",
          "model_name": "FloatProgressModel",
          "state": {
            "_dom_classes": [],
            "_model_module": "@jupyter-widgets/controls",
            "_model_module_version": "1.5.0",
            "_model_name": "FloatProgressModel",
            "_view_count": null,
            "_view_module": "@jupyter-widgets/controls",
            "_view_module_version": "1.5.0",
            "_view_name": "ProgressView",
            "bar_style": "success",
            "description": "",
            "description_tooltip": null,
            "layout": "IPY_MODEL_e762834c45b14207807decea0f0222f0",
            "max": 810912,
            "min": 0,
            "orientation": "horizontal",
            "style": "IPY_MODEL_782832af64b946b882b65a782b12a196",
            "value": 810912
          }
        },
        "7d3867e44c844092b76e5236a092d09a": {
          "model_module": "@jupyter-widgets/controls",
          "model_module_version": "1.5.0",
          "model_name": "HBoxModel",
          "state": {
            "_dom_classes": [],
            "_model_module": "@jupyter-widgets/controls",
            "_model_module_version": "1.5.0",
            "_model_name": "HBoxModel",
            "_view_count": null,
            "_view_module": "@jupyter-widgets/controls",
            "_view_module_version": "1.5.0",
            "_view_name": "HBoxView",
            "box_style": "",
            "children": [
              "IPY_MODEL_989d26742d66458780d58b3ba55e87b6",
              "IPY_MODEL_4c57ed20f8b5412ba17cfa5636d9b9d4",
              "IPY_MODEL_21195ffef20c412ca45d7ff1182162e9"
            ],
            "layout": "IPY_MODEL_8acc10cfef964bd78e47fc97164dc75d"
          }
        },
        "7dd424a876fd4572aaf31e5862b591f6": {
          "model_module": "@jupyter-widgets/controls",
          "model_module_version": "1.5.0",
          "model_name": "HBoxModel",
          "state": {
            "_dom_classes": [],
            "_model_module": "@jupyter-widgets/controls",
            "_model_module_version": "1.5.0",
            "_model_name": "HBoxModel",
            "_view_count": null,
            "_view_module": "@jupyter-widgets/controls",
            "_view_module_version": "1.5.0",
            "_view_name": "HBoxView",
            "box_style": "",
            "children": [
              "IPY_MODEL_99884e7c22384a8aa003ee8d2dadc610",
              "IPY_MODEL_da70e175c0bc4edaa842c87a2f71d9e9",
              "IPY_MODEL_71d92b3c58ca452cbda0e6a57f2f3d2e"
            ],
            "layout": "IPY_MODEL_84cfb070e18e47898bd287f1d9b2a038"
          }
        },
        "84cfb070e18e47898bd287f1d9b2a038": {
          "model_module": "@jupyter-widgets/base",
          "model_module_version": "1.2.0",
          "model_name": "LayoutModel",
          "state": {
            "_model_module": "@jupyter-widgets/base",
            "_model_module_version": "1.2.0",
            "_model_name": "LayoutModel",
            "_view_count": null,
            "_view_module": "@jupyter-widgets/base",
            "_view_module_version": "1.2.0",
            "_view_name": "LayoutView",
            "align_content": null,
            "align_items": null,
            "align_self": null,
            "border": null,
            "bottom": null,
            "display": null,
            "flex": null,
            "flex_flow": null,
            "grid_area": null,
            "grid_auto_columns": null,
            "grid_auto_flow": null,
            "grid_auto_rows": null,
            "grid_column": null,
            "grid_gap": null,
            "grid_row": null,
            "grid_template_areas": null,
            "grid_template_columns": null,
            "grid_template_rows": null,
            "height": null,
            "justify_content": null,
            "justify_items": null,
            "left": null,
            "margin": null,
            "max_height": null,
            "max_width": null,
            "min_height": null,
            "min_width": null,
            "object_fit": null,
            "object_position": null,
            "order": null,
            "overflow": null,
            "overflow_x": null,
            "overflow_y": null,
            "padding": null,
            "right": null,
            "top": null,
            "visibility": null,
            "width": null
          }
        },
        "866938558c1b4bf383c3274f060e4c8a": {
          "model_module": "@jupyter-widgets/controls",
          "model_module_version": "1.5.0",
          "model_name": "FloatProgressModel",
          "state": {
            "_dom_classes": [],
            "_model_module": "@jupyter-widgets/controls",
            "_model_module_version": "1.5.0",
            "_model_name": "FloatProgressModel",
            "_view_count": null,
            "_view_module": "@jupyter-widgets/controls",
            "_view_module_version": "1.5.0",
            "_view_name": "ProgressView",
            "bar_style": "success",
            "description": "",
            "description_tooltip": null,
            "layout": "IPY_MODEL_f8e918078e67407ca737e062f476487c",
            "max": 1395301,
            "min": 0,
            "orientation": "horizontal",
            "style": "IPY_MODEL_18d791dbfc32425ba9e0fe0977c9d58d",
            "value": 1395301
          }
        },
        "893231d4c26545afb8fef2dc9587578b": {
          "model_module": "@jupyter-widgets/controls",
          "model_module_version": "1.5.0",
          "model_name": "DescriptionStyleModel",
          "state": {
            "_model_module": "@jupyter-widgets/controls",
            "_model_module_version": "1.5.0",
            "_model_name": "DescriptionStyleModel",
            "_view_count": null,
            "_view_module": "@jupyter-widgets/base",
            "_view_module_version": "1.2.0",
            "_view_name": "StyleView",
            "description_width": ""
          }
        },
        "8acc10cfef964bd78e47fc97164dc75d": {
          "model_module": "@jupyter-widgets/base",
          "model_module_version": "1.2.0",
          "model_name": "LayoutModel",
          "state": {
            "_model_module": "@jupyter-widgets/base",
            "_model_module_version": "1.2.0",
            "_model_name": "LayoutModel",
            "_view_count": null,
            "_view_module": "@jupyter-widgets/base",
            "_view_module_version": "1.2.0",
            "_view_name": "LayoutView",
            "align_content": null,
            "align_items": null,
            "align_self": null,
            "border": null,
            "bottom": null,
            "display": null,
            "flex": null,
            "flex_flow": null,
            "grid_area": null,
            "grid_auto_columns": null,
            "grid_auto_flow": null,
            "grid_auto_rows": null,
            "grid_column": null,
            "grid_gap": null,
            "grid_row": null,
            "grid_template_areas": null,
            "grid_template_columns": null,
            "grid_template_rows": null,
            "height": null,
            "justify_content": null,
            "justify_items": null,
            "left": null,
            "margin": null,
            "max_height": null,
            "max_width": null,
            "min_height": null,
            "min_width": null,
            "object_fit": null,
            "object_position": null,
            "order": null,
            "overflow": null,
            "overflow_x": null,
            "overflow_y": null,
            "padding": null,
            "right": null,
            "top": null,
            "visibility": null,
            "width": null
          }
        },
        "92ab85baa42b499e8df7527cb82c558e": {
          "model_module": "@jupyter-widgets/base",
          "model_module_version": "1.2.0",
          "model_name": "LayoutModel",
          "state": {
            "_model_module": "@jupyter-widgets/base",
            "_model_module_version": "1.2.0",
            "_model_name": "LayoutModel",
            "_view_count": null,
            "_view_module": "@jupyter-widgets/base",
            "_view_module_version": "1.2.0",
            "_view_name": "LayoutView",
            "align_content": null,
            "align_items": null,
            "align_self": null,
            "border": null,
            "bottom": null,
            "display": null,
            "flex": null,
            "flex_flow": null,
            "grid_area": null,
            "grid_auto_columns": null,
            "grid_auto_flow": null,
            "grid_auto_rows": null,
            "grid_column": null,
            "grid_gap": null,
            "grid_row": null,
            "grid_template_areas": null,
            "grid_template_columns": null,
            "grid_template_rows": null,
            "height": null,
            "justify_content": null,
            "justify_items": null,
            "left": null,
            "margin": null,
            "max_height": null,
            "max_width": null,
            "min_height": null,
            "min_width": null,
            "object_fit": null,
            "object_position": null,
            "order": null,
            "overflow": null,
            "overflow_x": null,
            "overflow_y": null,
            "padding": null,
            "right": null,
            "top": null,
            "visibility": null,
            "width": null
          }
        },
        "942882eff85c4925805242a6057064d9": {
          "model_module": "@jupyter-widgets/controls",
          "model_module_version": "1.5.0",
          "model_name": "DescriptionStyleModel",
          "state": {
            "_model_module": "@jupyter-widgets/controls",
            "_model_module_version": "1.5.0",
            "_model_name": "DescriptionStyleModel",
            "_view_count": null,
            "_view_module": "@jupyter-widgets/base",
            "_view_module_version": "1.2.0",
            "_view_name": "StyleView",
            "description_width": ""
          }
        },
        "9456cab66ae14f8694f401db798040bc": {
          "model_module": "@jupyter-widgets/controls",
          "model_module_version": "1.5.0",
          "model_name": "HBoxModel",
          "state": {
            "_dom_classes": [],
            "_model_module": "@jupyter-widgets/controls",
            "_model_module_version": "1.5.0",
            "_model_name": "HBoxModel",
            "_view_count": null,
            "_view_module": "@jupyter-widgets/controls",
            "_view_module_version": "1.5.0",
            "_view_name": "HBoxView",
            "box_style": "",
            "children": [
              "IPY_MODEL_e3ada46c77c241d9b3bdb86d05dc34a9",
              "IPY_MODEL_ab5a7d1b9fb449bfafdb014735d30257",
              "IPY_MODEL_06cd4295fca24b52adc466a76eceb552"
            ],
            "layout": "IPY_MODEL_30a08dfa6f614e81b935955e5978b22b"
          }
        },
        "9542f0bfe11b4d05a1a1b5c41d1855ab": {
          "model_module": "@jupyter-widgets/controls",
          "model_module_version": "1.5.0",
          "model_name": "ProgressStyleModel",
          "state": {
            "_model_module": "@jupyter-widgets/controls",
            "_model_module_version": "1.5.0",
            "_model_name": "ProgressStyleModel",
            "_view_count": null,
            "_view_module": "@jupyter-widgets/base",
            "_view_module_version": "1.2.0",
            "_view_name": "StyleView",
            "bar_color": null,
            "description_width": ""
          }
        },
        "9697bdf62684488995c1bcd3196c0455": {
          "model_module": "@jupyter-widgets/base",
          "model_module_version": "1.2.0",
          "model_name": "LayoutModel",
          "state": {
            "_model_module": "@jupyter-widgets/base",
            "_model_module_version": "1.2.0",
            "_model_name": "LayoutModel",
            "_view_count": null,
            "_view_module": "@jupyter-widgets/base",
            "_view_module_version": "1.2.0",
            "_view_name": "LayoutView",
            "align_content": null,
            "align_items": null,
            "align_self": null,
            "border": null,
            "bottom": null,
            "display": null,
            "flex": null,
            "flex_flow": null,
            "grid_area": null,
            "grid_auto_columns": null,
            "grid_auto_flow": null,
            "grid_auto_rows": null,
            "grid_column": null,
            "grid_gap": null,
            "grid_row": null,
            "grid_template_areas": null,
            "grid_template_columns": null,
            "grid_template_rows": null,
            "height": null,
            "justify_content": null,
            "justify_items": null,
            "left": null,
            "margin": null,
            "max_height": null,
            "max_width": null,
            "min_height": null,
            "min_width": null,
            "object_fit": null,
            "object_position": null,
            "order": null,
            "overflow": null,
            "overflow_x": null,
            "overflow_y": null,
            "padding": null,
            "right": null,
            "top": null,
            "visibility": null,
            "width": null
          }
        },
        "9831417d2fe046869826c2ed7f65d862": {
          "model_module": "@jupyter-widgets/base",
          "model_module_version": "1.2.0",
          "model_name": "LayoutModel",
          "state": {
            "_model_module": "@jupyter-widgets/base",
            "_model_module_version": "1.2.0",
            "_model_name": "LayoutModel",
            "_view_count": null,
            "_view_module": "@jupyter-widgets/base",
            "_view_module_version": "1.2.0",
            "_view_name": "LayoutView",
            "align_content": null,
            "align_items": null,
            "align_self": null,
            "border": null,
            "bottom": null,
            "display": null,
            "flex": null,
            "flex_flow": null,
            "grid_area": null,
            "grid_auto_columns": null,
            "grid_auto_flow": null,
            "grid_auto_rows": null,
            "grid_column": null,
            "grid_gap": null,
            "grid_row": null,
            "grid_template_areas": null,
            "grid_template_columns": null,
            "grid_template_rows": null,
            "height": null,
            "justify_content": null,
            "justify_items": null,
            "left": null,
            "margin": null,
            "max_height": null,
            "max_width": null,
            "min_height": null,
            "min_width": null,
            "object_fit": null,
            "object_position": null,
            "order": null,
            "overflow": null,
            "overflow_x": null,
            "overflow_y": null,
            "padding": null,
            "right": null,
            "top": null,
            "visibility": null,
            "width": null
          }
        },
        "989d26742d66458780d58b3ba55e87b6": {
          "model_module": "@jupyter-widgets/controls",
          "model_module_version": "1.5.0",
          "model_name": "HTMLModel",
          "state": {
            "_dom_classes": [],
            "_model_module": "@jupyter-widgets/controls",
            "_model_module_version": "1.5.0",
            "_model_name": "HTMLModel",
            "_view_count": null,
            "_view_module": "@jupyter-widgets/controls",
            "_view_module_version": "1.5.0",
            "_view_name": "HTMLView",
            "description": "",
            "description_tooltip": null,
            "layout": "IPY_MODEL_d40354c801c549f29ca098c7ceb58f71",
            "placeholder": "​",
            "style": "IPY_MODEL_c5dab02b631849f9a5351760d700ac09",
            "value": "Downloading: 100%"
          }
        },
        "99884e7c22384a8aa003ee8d2dadc610": {
          "model_module": "@jupyter-widgets/controls",
          "model_module_version": "1.5.0",
          "model_name": "HTMLModel",
          "state": {
            "_dom_classes": [],
            "_model_module": "@jupyter-widgets/controls",
            "_model_module_version": "1.5.0",
            "_model_name": "HTMLModel",
            "_view_count": null,
            "_view_module": "@jupyter-widgets/controls",
            "_view_module_version": "1.5.0",
            "_view_name": "HTMLView",
            "description": "",
            "description_tooltip": null,
            "layout": "IPY_MODEL_f98e139303894845abe650a6d0cec0e1",
            "placeholder": "​",
            "style": "IPY_MODEL_20078c57cbeb42c1b659a2961d73b19d",
            "value": "Downloading: 100%"
          }
        },
        "9c5227731bfa4c59921c1ed27a463cbb": {
          "model_module": "@jupyter-widgets/controls",
          "model_module_version": "1.5.0",
          "model_name": "HBoxModel",
          "state": {
            "_dom_classes": [],
            "_model_module": "@jupyter-widgets/controls",
            "_model_module_version": "1.5.0",
            "_model_name": "HBoxModel",
            "_view_count": null,
            "_view_module": "@jupyter-widgets/controls",
            "_view_module_version": "1.5.0",
            "_view_name": "HBoxView",
            "box_style": "",
            "children": [
              "IPY_MODEL_6a01b85a84834badb6f15a8ef9d4a0d5",
              "IPY_MODEL_52eb3c1c9e5c43da986832c1305b4978",
              "IPY_MODEL_ae0d015b2e454f4d8829fe73e3b955cb"
            ],
            "layout": "IPY_MODEL_5efa578fa7344e9b86a7b09b9aa65025"
          }
        },
        "ab5a7d1b9fb449bfafdb014735d30257": {
          "model_module": "@jupyter-widgets/controls",
          "model_module_version": "1.5.0",
          "model_name": "FloatProgressModel",
          "state": {
            "_dom_classes": [],
            "_model_module": "@jupyter-widgets/controls",
            "_model_module_version": "1.5.0",
            "_model_name": "FloatProgressModel",
            "_view_count": null,
            "_view_module": "@jupyter-widgets/controls",
            "_view_module_version": "1.5.0",
            "_view_name": "ProgressView",
            "bar_style": "success",
            "description": "",
            "description_tooltip": null,
            "layout": "IPY_MODEL_699da12fbf6e4d078ca1ac551f03175c",
            "max": 545172724,
            "min": 0,
            "orientation": "horizontal",
            "style": "IPY_MODEL_72d1af2f9db54552b586942700dbd0d7",
            "value": 545172724
          }
        },
        "ac8943b73efa43108aa150a12e3f1650": {
          "model_module": "@jupyter-widgets/controls",
          "model_module_version": "1.5.0",
          "model_name": "ProgressStyleModel",
          "state": {
            "_model_module": "@jupyter-widgets/controls",
            "_model_module_version": "1.5.0",
            "_model_name": "ProgressStyleModel",
            "_view_count": null,
            "_view_module": "@jupyter-widgets/base",
            "_view_module_version": "1.2.0",
            "_view_name": "StyleView",
            "bar_color": null,
            "description_width": ""
          }
        },
        "ae0d015b2e454f4d8829fe73e3b955cb": {
          "model_module": "@jupyter-widgets/controls",
          "model_module_version": "1.5.0",
          "model_name": "HTMLModel",
          "state": {
            "_dom_classes": [],
            "_model_module": "@jupyter-widgets/controls",
            "_model_module_version": "1.5.0",
            "_model_name": "HTMLModel",
            "_view_count": null,
            "_view_module": "@jupyter-widgets/controls",
            "_view_module_version": "1.5.0",
            "_view_name": "HTMLView",
            "description": "",
            "description_tooltip": null,
            "layout": "IPY_MODEL_2ece2b302d5f430889c57e74b1d797aa",
            "placeholder": "​",
            "style": "IPY_MODEL_5dc7ab25735b4c42afbf41935b86cfe6",
            "value": " 792k/792k [00:00&lt;00:00, 669kB/s]"
          }
        },
        "b57506f7e0764f33aa20ff8585611ea9": {
          "model_module": "@jupyter-widgets/base",
          "model_module_version": "1.2.0",
          "model_name": "LayoutModel",
          "state": {
            "_model_module": "@jupyter-widgets/base",
            "_model_module_version": "1.2.0",
            "_model_name": "LayoutModel",
            "_view_count": null,
            "_view_module": "@jupyter-widgets/base",
            "_view_module_version": "1.2.0",
            "_view_name": "LayoutView",
            "align_content": null,
            "align_items": null,
            "align_self": null,
            "border": null,
            "bottom": null,
            "display": null,
            "flex": null,
            "flex_flow": null,
            "grid_area": null,
            "grid_auto_columns": null,
            "grid_auto_flow": null,
            "grid_auto_rows": null,
            "grid_column": null,
            "grid_gap": null,
            "grid_row": null,
            "grid_template_areas": null,
            "grid_template_columns": null,
            "grid_template_rows": null,
            "height": null,
            "justify_content": null,
            "justify_items": null,
            "left": null,
            "margin": null,
            "max_height": null,
            "max_width": null,
            "min_height": null,
            "min_width": null,
            "object_fit": null,
            "object_position": null,
            "order": null,
            "overflow": null,
            "overflow_x": null,
            "overflow_y": null,
            "padding": null,
            "right": null,
            "top": null,
            "visibility": null,
            "width": null
          }
        },
        "b9062bcadf234def8aaa786f76c7913c": {
          "model_module": "@jupyter-widgets/controls",
          "model_module_version": "1.5.0",
          "model_name": "DescriptionStyleModel",
          "state": {
            "_model_module": "@jupyter-widgets/controls",
            "_model_module_version": "1.5.0",
            "_model_name": "DescriptionStyleModel",
            "_view_count": null,
            "_view_module": "@jupyter-widgets/base",
            "_view_module_version": "1.2.0",
            "_view_name": "StyleView",
            "description_width": ""
          }
        },
        "c5dab02b631849f9a5351760d700ac09": {
          "model_module": "@jupyter-widgets/controls",
          "model_module_version": "1.5.0",
          "model_name": "DescriptionStyleModel",
          "state": {
            "_model_module": "@jupyter-widgets/controls",
            "_model_module_version": "1.5.0",
            "_model_name": "DescriptionStyleModel",
            "_view_count": null,
            "_view_module": "@jupyter-widgets/base",
            "_view_module_version": "1.2.0",
            "_view_name": "StyleView",
            "description_width": ""
          }
        },
        "c7e4f5957ba0442582d5ada8a2399263": {
          "model_module": "@jupyter-widgets/controls",
          "model_module_version": "1.5.0",
          "model_name": "DescriptionStyleModel",
          "state": {
            "_model_module": "@jupyter-widgets/controls",
            "_model_module_version": "1.5.0",
            "_model_name": "DescriptionStyleModel",
            "_view_count": null,
            "_view_module": "@jupyter-widgets/base",
            "_view_module_version": "1.2.0",
            "_view_name": "StyleView",
            "description_width": ""
          }
        },
        "c83db1b16605471784b0766839fe4c55": {
          "model_module": "@jupyter-widgets/controls",
          "model_module_version": "1.5.0",
          "model_name": "DescriptionStyleModel",
          "state": {
            "_model_module": "@jupyter-widgets/controls",
            "_model_module_version": "1.5.0",
            "_model_name": "DescriptionStyleModel",
            "_view_count": null,
            "_view_module": "@jupyter-widgets/base",
            "_view_module_version": "1.2.0",
            "_view_name": "StyleView",
            "description_width": ""
          }
        },
        "c9e8fbd11ee44eb7b80ef66daecdcc31": {
          "model_module": "@jupyter-widgets/controls",
          "model_module_version": "1.5.0",
          "model_name": "HTMLModel",
          "state": {
            "_dom_classes": [],
            "_model_module": "@jupyter-widgets/controls",
            "_model_module_version": "1.5.0",
            "_model_name": "HTMLModel",
            "_view_count": null,
            "_view_module": "@jupyter-widgets/controls",
            "_view_module_version": "1.5.0",
            "_view_name": "HTMLView",
            "description": "",
            "description_tooltip": null,
            "layout": "IPY_MODEL_77ce450a42204c7abd4c3766f38c31c1",
            "placeholder": "​",
            "style": "IPY_MODEL_942882eff85c4925805242a6057064d9",
            "value": "Downloading: 100%"
          }
        },
        "cad8ee1ceeeb48c4bfdeb82ff2638ef3": {
          "model_module": "@jupyter-widgets/base",
          "model_module_version": "1.2.0",
          "model_name": "LayoutModel",
          "state": {
            "_model_module": "@jupyter-widgets/base",
            "_model_module_version": "1.2.0",
            "_model_name": "LayoutModel",
            "_view_count": null,
            "_view_module": "@jupyter-widgets/base",
            "_view_module_version": "1.2.0",
            "_view_name": "LayoutView",
            "align_content": null,
            "align_items": null,
            "align_self": null,
            "border": null,
            "bottom": null,
            "display": null,
            "flex": null,
            "flex_flow": null,
            "grid_area": null,
            "grid_auto_columns": null,
            "grid_auto_flow": null,
            "grid_auto_rows": null,
            "grid_column": null,
            "grid_gap": null,
            "grid_row": null,
            "grid_template_areas": null,
            "grid_template_columns": null,
            "grid_template_rows": null,
            "height": null,
            "justify_content": null,
            "justify_items": null,
            "left": null,
            "margin": null,
            "max_height": null,
            "max_width": null,
            "min_height": null,
            "min_width": null,
            "object_fit": null,
            "object_position": null,
            "order": null,
            "overflow": null,
            "overflow_x": null,
            "overflow_y": null,
            "padding": null,
            "right": null,
            "top": null,
            "visibility": null,
            "width": null
          }
        },
        "cfc3e377aed84de3ba47b2b0f52c2a62": {
          "model_module": "@jupyter-widgets/base",
          "model_module_version": "1.2.0",
          "model_name": "LayoutModel",
          "state": {
            "_model_module": "@jupyter-widgets/base",
            "_model_module_version": "1.2.0",
            "_model_name": "LayoutModel",
            "_view_count": null,
            "_view_module": "@jupyter-widgets/base",
            "_view_module_version": "1.2.0",
            "_view_name": "LayoutView",
            "align_content": null,
            "align_items": null,
            "align_self": null,
            "border": null,
            "bottom": null,
            "display": null,
            "flex": null,
            "flex_flow": null,
            "grid_area": null,
            "grid_auto_columns": null,
            "grid_auto_flow": null,
            "grid_auto_rows": null,
            "grid_column": null,
            "grid_gap": null,
            "grid_row": null,
            "grid_template_areas": null,
            "grid_template_columns": null,
            "grid_template_rows": null,
            "height": null,
            "justify_content": null,
            "justify_items": null,
            "left": null,
            "margin": null,
            "max_height": null,
            "max_width": null,
            "min_height": null,
            "min_width": null,
            "object_fit": null,
            "object_position": null,
            "order": null,
            "overflow": null,
            "overflow_x": null,
            "overflow_y": null,
            "padding": null,
            "right": null,
            "top": null,
            "visibility": null,
            "width": null
          }
        },
        "d40354c801c549f29ca098c7ceb58f71": {
          "model_module": "@jupyter-widgets/base",
          "model_module_version": "1.2.0",
          "model_name": "LayoutModel",
          "state": {
            "_model_module": "@jupyter-widgets/base",
            "_model_module_version": "1.2.0",
            "_model_name": "LayoutModel",
            "_view_count": null,
            "_view_module": "@jupyter-widgets/base",
            "_view_module_version": "1.2.0",
            "_view_name": "LayoutView",
            "align_content": null,
            "align_items": null,
            "align_self": null,
            "border": null,
            "bottom": null,
            "display": null,
            "flex": null,
            "flex_flow": null,
            "grid_area": null,
            "grid_auto_columns": null,
            "grid_auto_flow": null,
            "grid_auto_rows": null,
            "grid_column": null,
            "grid_gap": null,
            "grid_row": null,
            "grid_template_areas": null,
            "grid_template_columns": null,
            "grid_template_rows": null,
            "height": null,
            "justify_content": null,
            "justify_items": null,
            "left": null,
            "margin": null,
            "max_height": null,
            "max_width": null,
            "min_height": null,
            "min_width": null,
            "object_fit": null,
            "object_position": null,
            "order": null,
            "overflow": null,
            "overflow_x": null,
            "overflow_y": null,
            "padding": null,
            "right": null,
            "top": null,
            "visibility": null,
            "width": null
          }
        },
        "da70e175c0bc4edaa842c87a2f71d9e9": {
          "model_module": "@jupyter-widgets/controls",
          "model_module_version": "1.5.0",
          "model_name": "FloatProgressModel",
          "state": {
            "_dom_classes": [],
            "_model_module": "@jupyter-widgets/controls",
            "_model_module_version": "1.5.0",
            "_model_name": "FloatProgressModel",
            "_view_count": null,
            "_view_module": "@jupyter-widgets/controls",
            "_view_module_version": "1.5.0",
            "_view_name": "ProgressView",
            "bar_style": "success",
            "description": "",
            "description_tooltip": null,
            "layout": "IPY_MODEL_cfc3e377aed84de3ba47b2b0f52c2a62",
            "max": 508,
            "min": 0,
            "orientation": "horizontal",
            "style": "IPY_MODEL_ac8943b73efa43108aa150a12e3f1650",
            "value": 508
          }
        },
        "db7ed9b5d3c047f1aaf68add1956a896": {
          "model_module": "@jupyter-widgets/controls",
          "model_module_version": "1.5.0",
          "model_name": "DescriptionStyleModel",
          "state": {
            "_model_module": "@jupyter-widgets/controls",
            "_model_module_version": "1.5.0",
            "_model_name": "DescriptionStyleModel",
            "_view_count": null,
            "_view_module": "@jupyter-widgets/base",
            "_view_module_version": "1.2.0",
            "_view_name": "StyleView",
            "description_width": ""
          }
        },
        "e3ada46c77c241d9b3bdb86d05dc34a9": {
          "model_module": "@jupyter-widgets/controls",
          "model_module_version": "1.5.0",
          "model_name": "HTMLModel",
          "state": {
            "_dom_classes": [],
            "_model_module": "@jupyter-widgets/controls",
            "_model_module_version": "1.5.0",
            "_model_name": "HTMLModel",
            "_view_count": null,
            "_view_module": "@jupyter-widgets/controls",
            "_view_module_version": "1.5.0",
            "_view_name": "HTMLView",
            "description": "",
            "description_tooltip": null,
            "layout": "IPY_MODEL_9831417d2fe046869826c2ed7f65d862",
            "placeholder": "​",
            "style": "IPY_MODEL_c83db1b16605471784b0766839fe4c55",
            "value": "Downloading: 100%"
          }
        },
        "e616c1a3271f41a096a3081cda60ed3e": {
          "model_module": "@jupyter-widgets/controls",
          "model_module_version": "1.5.0",
          "model_name": "DescriptionStyleModel",
          "state": {
            "_model_module": "@jupyter-widgets/controls",
            "_model_module_version": "1.5.0",
            "_model_name": "DescriptionStyleModel",
            "_view_count": null,
            "_view_module": "@jupyter-widgets/base",
            "_view_module_version": "1.2.0",
            "_view_name": "StyleView",
            "description_width": ""
          }
        },
        "e762834c45b14207807decea0f0222f0": {
          "model_module": "@jupyter-widgets/base",
          "model_module_version": "1.2.0",
          "model_name": "LayoutModel",
          "state": {
            "_model_module": "@jupyter-widgets/base",
            "_model_module_version": "1.2.0",
            "_model_name": "LayoutModel",
            "_view_count": null,
            "_view_module": "@jupyter-widgets/base",
            "_view_module_version": "1.2.0",
            "_view_name": "LayoutView",
            "align_content": null,
            "align_items": null,
            "align_self": null,
            "border": null,
            "bottom": null,
            "display": null,
            "flex": null,
            "flex_flow": null,
            "grid_area": null,
            "grid_auto_columns": null,
            "grid_auto_flow": null,
            "grid_auto_rows": null,
            "grid_column": null,
            "grid_gap": null,
            "grid_row": null,
            "grid_template_areas": null,
            "grid_template_columns": null,
            "grid_template_rows": null,
            "height": null,
            "justify_content": null,
            "justify_items": null,
            "left": null,
            "margin": null,
            "max_height": null,
            "max_width": null,
            "min_height": null,
            "min_width": null,
            "object_fit": null,
            "object_position": null,
            "order": null,
            "overflow": null,
            "overflow_x": null,
            "overflow_y": null,
            "padding": null,
            "right": null,
            "top": null,
            "visibility": null,
            "width": null
          }
        },
        "f8e918078e67407ca737e062f476487c": {
          "model_module": "@jupyter-widgets/base",
          "model_module_version": "1.2.0",
          "model_name": "LayoutModel",
          "state": {
            "_model_module": "@jupyter-widgets/base",
            "_model_module_version": "1.2.0",
            "_model_name": "LayoutModel",
            "_view_count": null,
            "_view_module": "@jupyter-widgets/base",
            "_view_module_version": "1.2.0",
            "_view_name": "LayoutView",
            "align_content": null,
            "align_items": null,
            "align_self": null,
            "border": null,
            "bottom": null,
            "display": null,
            "flex": null,
            "flex_flow": null,
            "grid_area": null,
            "grid_auto_columns": null,
            "grid_auto_flow": null,
            "grid_auto_rows": null,
            "grid_column": null,
            "grid_gap": null,
            "grid_row": null,
            "grid_template_areas": null,
            "grid_template_columns": null,
            "grid_template_rows": null,
            "height": null,
            "justify_content": null,
            "justify_items": null,
            "left": null,
            "margin": null,
            "max_height": null,
            "max_width": null,
            "min_height": null,
            "min_width": null,
            "object_fit": null,
            "object_position": null,
            "order": null,
            "overflow": null,
            "overflow_x": null,
            "overflow_y": null,
            "padding": null,
            "right": null,
            "top": null,
            "visibility": null,
            "width": null
          }
        },
        "f98e139303894845abe650a6d0cec0e1": {
          "model_module": "@jupyter-widgets/base",
          "model_module_version": "1.2.0",
          "model_name": "LayoutModel",
          "state": {
            "_model_module": "@jupyter-widgets/base",
            "_model_module_version": "1.2.0",
            "_model_name": "LayoutModel",
            "_view_count": null,
            "_view_module": "@jupyter-widgets/base",
            "_view_module_version": "1.2.0",
            "_view_name": "LayoutView",
            "align_content": null,
            "align_items": null,
            "align_self": null,
            "border": null,
            "bottom": null,
            "display": null,
            "flex": null,
            "flex_flow": null,
            "grid_area": null,
            "grid_auto_columns": null,
            "grid_auto_flow": null,
            "grid_auto_rows": null,
            "grid_column": null,
            "grid_gap": null,
            "grid_row": null,
            "grid_template_areas": null,
            "grid_template_columns": null,
            "grid_template_rows": null,
            "height": null,
            "justify_content": null,
            "justify_items": null,
            "left": null,
            "margin": null,
            "max_height": null,
            "max_width": null,
            "min_height": null,
            "min_width": null,
            "object_fit": null,
            "object_position": null,
            "order": null,
            "overflow": null,
            "overflow_x": null,
            "overflow_y": null,
            "padding": null,
            "right": null,
            "top": null,
            "visibility": null,
            "width": null
          }
        }
      }
    }
  },
  "nbformat": 4,
  "nbformat_minor": 0
}
